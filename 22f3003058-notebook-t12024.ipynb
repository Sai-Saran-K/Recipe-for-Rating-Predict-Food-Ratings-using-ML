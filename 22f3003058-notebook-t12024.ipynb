{
 "cells": [
  {
   "cell_type": "code",
   "execution_count": 1,
   "id": "e9ec8b11",
   "metadata": {
    "_cell_guid": "b1076dfc-b9ad-4769-8c92-a6c4dae69d19",
    "_uuid": "8f2839f25d086af736a60e9eeb907d3b93b6e0e5",
    "execution": {
     "iopub.execute_input": "2024-03-13T13:51:12.751845Z",
     "iopub.status.busy": "2024-03-13T13:51:12.750841Z",
     "iopub.status.idle": "2024-03-13T13:51:13.756065Z",
     "shell.execute_reply": "2024-03-13T13:51:13.754576Z"
    },
    "papermill": {
     "duration": 1.03566,
     "end_time": "2024-03-13T13:51:13.759100",
     "exception": false,
     "start_time": "2024-03-13T13:51:12.723440",
     "status": "completed"
    },
    "tags": []
   },
   "outputs": [
    {
     "name": "stdout",
     "output_type": "stream",
     "text": [
      "/kaggle/input/recipe-for-rating-predict-food-ratings-using-ml/sample.csv\n",
      "/kaggle/input/recipe-for-rating-predict-food-ratings-using-ml/train.csv\n",
      "/kaggle/input/recipe-for-rating-predict-food-ratings-using-ml/test.csv\n"
     ]
    }
   ],
   "source": [
    "# This Python 3 environment comes with many helpful analytics libraries installed\n",
    "# It is defined by the kaggle/python Docker image: https://github.com/kaggle/docker-python\n",
    "# For example, here's several helpful packages to load\n",
    "\n",
    "import numpy as np # linear algebra\n",
    "import pandas as pd # data processing, CSV file I/O (e.g. pd.read_csv)\n",
    "\n",
    "# Input data files are available in the read-only \"../input/\" directory\n",
    "# For example, running this (by clicking run or pressing Shift+Enter) will list all files under the input directory\n",
    "\n",
    "import os\n",
    "for dirname, _, filenames in os.walk('/kaggle/input'):\n",
    "    for filename in filenames:\n",
    "        print(os.path.join(dirname, filename))\n",
    "\n",
    "# You can write up to 20GB to the current directory (/kaggle/working/) that gets preserved as output when you create a version using \"Save & Run All\" \n",
    "# You can also write temporary files to /kaggle/temp/, but they won't be saved outside of the current session"
   ]
  },
  {
   "cell_type": "code",
   "execution_count": 2,
   "id": "d872b28f",
   "metadata": {
    "execution": {
     "iopub.execute_input": "2024-03-13T13:51:13.813468Z",
     "iopub.status.busy": "2024-03-13T13:51:13.812529Z",
     "iopub.status.idle": "2024-03-13T13:51:14.088100Z",
     "shell.execute_reply": "2024-03-13T13:51:14.086711Z"
    },
    "papermill": {
     "duration": 0.308646,
     "end_time": "2024-03-13T13:51:14.093223",
     "exception": false,
     "start_time": "2024-03-13T13:51:13.784577",
     "status": "completed"
    },
    "tags": []
   },
   "outputs": [],
   "source": [
    "train_df = pd.read_csv('/kaggle/input/recipe-for-rating-predict-food-ratings-using-ml/train.csv')\n",
    "test_df = pd.read_csv('/kaggle/input/recipe-for-rating-predict-food-ratings-using-ml/test.csv')"
   ]
  },
  {
   "cell_type": "code",
   "execution_count": 3,
   "id": "b5119c35",
   "metadata": {
    "execution": {
     "iopub.execute_input": "2024-03-13T13:51:14.154598Z",
     "iopub.status.busy": "2024-03-13T13:51:14.154116Z",
     "iopub.status.idle": "2024-03-13T13:51:14.163916Z",
     "shell.execute_reply": "2024-03-13T13:51:14.162575Z"
    },
    "papermill": {
     "duration": 0.048205,
     "end_time": "2024-03-13T13:51:14.169886",
     "exception": false,
     "start_time": "2024-03-13T13:51:14.121681",
     "status": "completed"
    },
    "tags": []
   },
   "outputs": [
    {
     "name": "stdout",
     "output_type": "stream",
     "text": [
      "(13636, 15) (4546, 14)\n"
     ]
    }
   ],
   "source": [
    "print(train_df.shape, test_df.shape)"
   ]
  },
  {
   "cell_type": "markdown",
   "id": "7f56860d",
   "metadata": {
    "papermill": {
     "duration": 0.032704,
     "end_time": "2024-03-13T13:51:14.237761",
     "exception": false,
     "start_time": "2024-03-13T13:51:14.205057",
     "status": "completed"
    },
    "tags": []
   },
   "source": [
    "# **Exploratory Data Analysis**"
   ]
  },
  {
   "cell_type": "code",
   "execution_count": 4,
   "id": "7222cab4",
   "metadata": {
    "execution": {
     "iopub.execute_input": "2024-03-13T13:51:14.292827Z",
     "iopub.status.busy": "2024-03-13T13:51:14.292285Z",
     "iopub.status.idle": "2024-03-13T13:51:14.338123Z",
     "shell.execute_reply": "2024-03-13T13:51:14.336501Z"
    },
    "papermill": {
     "duration": 0.075596,
     "end_time": "2024-03-13T13:51:14.341494",
     "exception": false,
     "start_time": "2024-03-13T13:51:14.265898",
     "status": "completed"
    },
    "tags": []
   },
   "outputs": [
    {
     "name": "stdout",
     "output_type": "stream",
     "text": [
      "<class 'pandas.core.frame.DataFrame'>\n",
      "RangeIndex: 13636 entries, 0 to 13635\n",
      "Data columns (total 15 columns):\n",
      " #   Column             Non-Null Count  Dtype \n",
      "---  ------             --------------  ----- \n",
      " 0   ID                 13636 non-null  int64 \n",
      " 1   RecipeNumber       13636 non-null  int64 \n",
      " 2   RecipeCode         13636 non-null  int64 \n",
      " 3   RecipeName         13636 non-null  object\n",
      " 4   CommentID          13636 non-null  object\n",
      " 5   UserID             13636 non-null  object\n",
      " 6   UserName           13636 non-null  object\n",
      " 7   UserReputation     13636 non-null  int64 \n",
      " 8   CreationTimestamp  13636 non-null  int64 \n",
      " 9   ReplyCount         13636 non-null  int64 \n",
      " 10  ThumbsUpCount      13636 non-null  int64 \n",
      " 11  ThumbsDownCount    13636 non-null  int64 \n",
      " 12  Rating             13636 non-null  int64 \n",
      " 13  BestScore          13636 non-null  int64 \n",
      " 14  Recipe_Review      13634 non-null  object\n",
      "dtypes: int64(10), object(5)\n",
      "memory usage: 1.6+ MB\n"
     ]
    }
   ],
   "source": [
    "train_df.info()"
   ]
  },
  {
   "cell_type": "markdown",
   "id": "1dd9c462",
   "metadata": {
    "papermill": {
     "duration": 0.031221,
     "end_time": "2024-03-13T13:51:14.403354",
     "exception": false,
     "start_time": "2024-03-13T13:51:14.372133",
     "status": "completed"
    },
    "tags": []
   },
   "source": [
    "# Metadata and Descriptive Statistics"
   ]
  },
  {
   "cell_type": "code",
   "execution_count": 5,
   "id": "7cf8cac5",
   "metadata": {
    "execution": {
     "iopub.execute_input": "2024-03-13T13:51:14.461043Z",
     "iopub.status.busy": "2024-03-13T13:51:14.459730Z",
     "iopub.status.idle": "2024-03-13T13:51:14.485309Z",
     "shell.execute_reply": "2024-03-13T13:51:14.484374Z"
    },
    "papermill": {
     "duration": 0.057949,
     "end_time": "2024-03-13T13:51:14.487735",
     "exception": false,
     "start_time": "2024-03-13T13:51:14.429786",
     "status": "completed"
    },
    "tags": []
   },
   "outputs": [
    {
     "data": {
      "text/html": [
       "<div>\n",
       "<style scoped>\n",
       "    .dataframe tbody tr th:only-of-type {\n",
       "        vertical-align: middle;\n",
       "    }\n",
       "\n",
       "    .dataframe tbody tr th {\n",
       "        vertical-align: top;\n",
       "    }\n",
       "\n",
       "    .dataframe thead th {\n",
       "        text-align: right;\n",
       "    }\n",
       "</style>\n",
       "<table border=\"1\" class=\"dataframe\">\n",
       "  <thead>\n",
       "    <tr style=\"text-align: right;\">\n",
       "      <th></th>\n",
       "      <th>ID</th>\n",
       "      <th>RecipeNumber</th>\n",
       "      <th>RecipeCode</th>\n",
       "      <th>RecipeName</th>\n",
       "      <th>CommentID</th>\n",
       "      <th>UserID</th>\n",
       "      <th>UserName</th>\n",
       "      <th>UserReputation</th>\n",
       "      <th>CreationTimestamp</th>\n",
       "      <th>ReplyCount</th>\n",
       "      <th>ThumbsUpCount</th>\n",
       "      <th>ThumbsDownCount</th>\n",
       "      <th>Rating</th>\n",
       "      <th>BestScore</th>\n",
       "      <th>Recipe_Review</th>\n",
       "    </tr>\n",
       "  </thead>\n",
       "  <tbody>\n",
       "    <tr>\n",
       "      <th>0</th>\n",
       "      <td>70</td>\n",
       "      <td>71</td>\n",
       "      <td>12259</td>\n",
       "      <td>Banana Bars with Cream Cheese Frosting</td>\n",
       "      <td>sp_aUSaElGf_12259_c_149978</td>\n",
       "      <td>u_1oKVaBmiEKwAFyiHrDLoWpbel0J</td>\n",
       "      <td>misscoffeepot</td>\n",
       "      <td>20</td>\n",
       "      <td>1622717078</td>\n",
       "      <td>0</td>\n",
       "      <td>0</td>\n",
       "      <td>0</td>\n",
       "      <td>5</td>\n",
       "      <td>100</td>\n",
       "      <td>great recipe! I have made them just as written...</td>\n",
       "    </tr>\n",
       "    <tr>\n",
       "      <th>1</th>\n",
       "      <td>72</td>\n",
       "      <td>88</td>\n",
       "      <td>8202</td>\n",
       "      <td>Simple Taco Soup</td>\n",
       "      <td>sp_aUSaElGf_8202_c_310332</td>\n",
       "      <td>u_1oKZeRIXYzGNhGW8OMR3O4lX1ih</td>\n",
       "      <td>MichelleMalone</td>\n",
       "      <td>1</td>\n",
       "      <td>1622717852</td>\n",
       "      <td>0</td>\n",
       "      <td>0</td>\n",
       "      <td>1</td>\n",
       "      <td>5</td>\n",
       "      <td>100</td>\n",
       "      <td>This is an easy and quick recipe that is great...</td>\n",
       "    </tr>\n",
       "    <tr>\n",
       "      <th>2</th>\n",
       "      <td>458</td>\n",
       "      <td>3</td>\n",
       "      <td>2832</td>\n",
       "      <td>Cheeseburger Soup</td>\n",
       "      <td>sp_aUSaElGf_2832_c_206522</td>\n",
       "      <td>u_1oKYHUtdaD48KJCDYq5wfpAUxWz</td>\n",
       "      <td>jeannem32</td>\n",
       "      <td>1</td>\n",
       "      <td>1622717357</td>\n",
       "      <td>0</td>\n",
       "      <td>0</td>\n",
       "      <td>0</td>\n",
       "      <td>3</td>\n",
       "      <td>100</td>\n",
       "      <td>I think I was looking for something extra spec...</td>\n",
       "    </tr>\n",
       "    <tr>\n",
       "      <th>3</th>\n",
       "      <td>7</td>\n",
       "      <td>50</td>\n",
       "      <td>100276</td>\n",
       "      <td>Grilled Huli Huli Chicken</td>\n",
       "      <td>sp_aUSaElGf_100276_c_434088</td>\n",
       "      <td>u_1oKZCQcKQZdQhDVBS7oISc216VA</td>\n",
       "      <td>ds422</td>\n",
       "      <td>1</td>\n",
       "      <td>1622648899</td>\n",
       "      <td>0</td>\n",
       "      <td>0</td>\n",
       "      <td>0</td>\n",
       "      <td>5</td>\n",
       "      <td>100</td>\n",
       "      <td>This is our favorite grilled chicken recipe.  ...</td>\n",
       "    </tr>\n",
       "    <tr>\n",
       "      <th>4</th>\n",
       "      <td>60</td>\n",
       "      <td>12</td>\n",
       "      <td>19731</td>\n",
       "      <td>Cauliflower Soup</td>\n",
       "      <td>sp_aUSaElGf_19731_c_387011</td>\n",
       "      <td>u_1oKd4sudZQPgu6YALiC7bW7mKMs</td>\n",
       "      <td>SusanHoward</td>\n",
       "      <td>1</td>\n",
       "      <td>1622718260</td>\n",
       "      <td>0</td>\n",
       "      <td>0</td>\n",
       "      <td>0</td>\n",
       "      <td>4</td>\n",
       "      <td>100</td>\n",
       "      <td>Great basic recipe. I added 2 teaspoons Tuscan...</td>\n",
       "    </tr>\n",
       "  </tbody>\n",
       "</table>\n",
       "</div>"
      ],
      "text/plain": [
       "    ID  RecipeNumber  RecipeCode                              RecipeName  \\\n",
       "0   70            71       12259  Banana Bars with Cream Cheese Frosting   \n",
       "1   72            88        8202                        Simple Taco Soup   \n",
       "2  458             3        2832                       Cheeseburger Soup   \n",
       "3    7            50      100276               Grilled Huli Huli Chicken   \n",
       "4   60            12       19731                        Cauliflower Soup   \n",
       "\n",
       "                     CommentID                         UserID        UserName  \\\n",
       "0   sp_aUSaElGf_12259_c_149978  u_1oKVaBmiEKwAFyiHrDLoWpbel0J   misscoffeepot   \n",
       "1    sp_aUSaElGf_8202_c_310332  u_1oKZeRIXYzGNhGW8OMR3O4lX1ih  MichelleMalone   \n",
       "2    sp_aUSaElGf_2832_c_206522  u_1oKYHUtdaD48KJCDYq5wfpAUxWz       jeannem32   \n",
       "3  sp_aUSaElGf_100276_c_434088  u_1oKZCQcKQZdQhDVBS7oISc216VA           ds422   \n",
       "4   sp_aUSaElGf_19731_c_387011  u_1oKd4sudZQPgu6YALiC7bW7mKMs     SusanHoward   \n",
       "\n",
       "   UserReputation  CreationTimestamp  ReplyCount  ThumbsUpCount  \\\n",
       "0              20         1622717078           0              0   \n",
       "1               1         1622717852           0              0   \n",
       "2               1         1622717357           0              0   \n",
       "3               1         1622648899           0              0   \n",
       "4               1         1622718260           0              0   \n",
       "\n",
       "   ThumbsDownCount  Rating  BestScore  \\\n",
       "0                0       5        100   \n",
       "1                1       5        100   \n",
       "2                0       3        100   \n",
       "3                0       5        100   \n",
       "4                0       4        100   \n",
       "\n",
       "                                       Recipe_Review  \n",
       "0  great recipe! I have made them just as written...  \n",
       "1  This is an easy and quick recipe that is great...  \n",
       "2  I think I was looking for something extra spec...  \n",
       "3  This is our favorite grilled chicken recipe.  ...  \n",
       "4  Great basic recipe. I added 2 teaspoons Tuscan...  "
      ]
     },
     "execution_count": 5,
     "metadata": {},
     "output_type": "execute_result"
    }
   ],
   "source": [
    "train_df.head(5)"
   ]
  },
  {
   "cell_type": "code",
   "execution_count": 6,
   "id": "c739e163",
   "metadata": {
    "execution": {
     "iopub.execute_input": "2024-03-13T13:51:14.541203Z",
     "iopub.status.busy": "2024-03-13T13:51:14.540609Z",
     "iopub.status.idle": "2024-03-13T13:51:14.556981Z",
     "shell.execute_reply": "2024-03-13T13:51:14.556041Z"
    },
    "papermill": {
     "duration": 0.045971,
     "end_time": "2024-03-13T13:51:14.559608",
     "exception": false,
     "start_time": "2024-03-13T13:51:14.513637",
     "status": "completed"
    },
    "tags": []
   },
   "outputs": [
    {
     "data": {
      "text/html": [
       "<div>\n",
       "<style scoped>\n",
       "    .dataframe tbody tr th:only-of-type {\n",
       "        vertical-align: middle;\n",
       "    }\n",
       "\n",
       "    .dataframe tbody tr th {\n",
       "        vertical-align: top;\n",
       "    }\n",
       "\n",
       "    .dataframe thead th {\n",
       "        text-align: right;\n",
       "    }\n",
       "</style>\n",
       "<table border=\"1\" class=\"dataframe\">\n",
       "  <thead>\n",
       "    <tr style=\"text-align: right;\">\n",
       "      <th></th>\n",
       "      <th>ID</th>\n",
       "      <th>RecipeNumber</th>\n",
       "      <th>RecipeCode</th>\n",
       "      <th>RecipeName</th>\n",
       "      <th>CommentID</th>\n",
       "      <th>UserID</th>\n",
       "      <th>UserName</th>\n",
       "      <th>UserReputation</th>\n",
       "      <th>CreationTimestamp</th>\n",
       "      <th>ReplyCount</th>\n",
       "      <th>ThumbsUpCount</th>\n",
       "      <th>ThumbsDownCount</th>\n",
       "      <th>BestScore</th>\n",
       "      <th>Recipe_Review</th>\n",
       "    </tr>\n",
       "  </thead>\n",
       "  <tbody>\n",
       "    <tr>\n",
       "      <th>0</th>\n",
       "      <td>86</td>\n",
       "      <td>45</td>\n",
       "      <td>41384</td>\n",
       "      <td>Black Bean ‘n’ Pumpkin Chili</td>\n",
       "      <td>sp_aUSaElGf_41384_c_341929</td>\n",
       "      <td>u_1oKc4U6bh65cEli8Z8eTIf98Vpr</td>\n",
       "      <td>kalloween</td>\n",
       "      <td>1</td>\n",
       "      <td>1622718043</td>\n",
       "      <td>0</td>\n",
       "      <td>0</td>\n",
       "      <td>0</td>\n",
       "      <td>100</td>\n",
       "      <td>This was so good!!  The pumpkin was perfect as...</td>\n",
       "    </tr>\n",
       "    <tr>\n",
       "      <th>1</th>\n",
       "      <td>102</td>\n",
       "      <td>53</td>\n",
       "      <td>3143</td>\n",
       "      <td>Pumpkin Bars</td>\n",
       "      <td>sp_aUSaElGf_3143_c_274545</td>\n",
       "      <td>u_1oKW5seFLQMSwAeOfBVmwJizy5D</td>\n",
       "      <td>chocolate desert</td>\n",
       "      <td>1</td>\n",
       "      <td>1622717685</td>\n",
       "      <td>0</td>\n",
       "      <td>0</td>\n",
       "      <td>1</td>\n",
       "      <td>100</td>\n",
       "      <td>So good!   Could not stop eating them, so bad....</td>\n",
       "    </tr>\n",
       "    <tr>\n",
       "      <th>2</th>\n",
       "      <td>156</td>\n",
       "      <td>53</td>\n",
       "      <td>3143</td>\n",
       "      <td>Pumpkin Bars</td>\n",
       "      <td>sp_aUSaElGf_3143_c_398512</td>\n",
       "      <td>u_1oKZ6GUIAIol8xe6oEI7t1Mpxdz</td>\n",
       "      <td>Vantreesta</td>\n",
       "      <td>1</td>\n",
       "      <td>1622718307</td>\n",
       "      <td>0</td>\n",
       "      <td>0</td>\n",
       "      <td>0</td>\n",
       "      <td>100</td>\n",
       "      <td>I use a small ladle to fill muffin cups.</td>\n",
       "    </tr>\n",
       "    <tr>\n",
       "      <th>3</th>\n",
       "      <td>18</td>\n",
       "      <td>89</td>\n",
       "      <td>1324</td>\n",
       "      <td>Porcupine Meatballs</td>\n",
       "      <td>sp_aUSaElGf_1324_c_431662</td>\n",
       "      <td>u_1oKWCP33NVk4Osfpu4VJuIckEF0</td>\n",
       "      <td>Roberta L.Beauchamp</td>\n",
       "      <td>1</td>\n",
       "      <td>1622648872</td>\n",
       "      <td>0</td>\n",
       "      <td>4</td>\n",
       "      <td>3</td>\n",
       "      <td>212</td>\n",
       "      <td>I made this and followed the instructions as d...</td>\n",
       "    </tr>\n",
       "    <tr>\n",
       "      <th>4</th>\n",
       "      <td>27</td>\n",
       "      <td>70</td>\n",
       "      <td>32264</td>\n",
       "      <td>Easy Chicken Enchiladas</td>\n",
       "      <td>sp_aUSaElGf_32264_c_423935</td>\n",
       "      <td>u_1oKVhIJMuUlrSCVkbO1jheVTol8</td>\n",
       "      <td>fhquilting</td>\n",
       "      <td>1</td>\n",
       "      <td>1622718460</td>\n",
       "      <td>0</td>\n",
       "      <td>0</td>\n",
       "      <td>1</td>\n",
       "      <td>100</td>\n",
       "      <td>Very Good!  I used corn tortillas.  Used fresh...</td>\n",
       "    </tr>\n",
       "  </tbody>\n",
       "</table>\n",
       "</div>"
      ],
      "text/plain": [
       "    ID  RecipeNumber  RecipeCode                    RecipeName  \\\n",
       "0   86            45       41384  Black Bean ‘n’ Pumpkin Chili   \n",
       "1  102            53        3143                  Pumpkin Bars   \n",
       "2  156            53        3143                  Pumpkin Bars   \n",
       "3   18            89        1324           Porcupine Meatballs   \n",
       "4   27            70       32264       Easy Chicken Enchiladas   \n",
       "\n",
       "                    CommentID                         UserID  \\\n",
       "0  sp_aUSaElGf_41384_c_341929  u_1oKc4U6bh65cEli8Z8eTIf98Vpr   \n",
       "1   sp_aUSaElGf_3143_c_274545  u_1oKW5seFLQMSwAeOfBVmwJizy5D   \n",
       "2   sp_aUSaElGf_3143_c_398512  u_1oKZ6GUIAIol8xe6oEI7t1Mpxdz   \n",
       "3   sp_aUSaElGf_1324_c_431662  u_1oKWCP33NVk4Osfpu4VJuIckEF0   \n",
       "4  sp_aUSaElGf_32264_c_423935  u_1oKVhIJMuUlrSCVkbO1jheVTol8   \n",
       "\n",
       "              UserName  UserReputation  CreationTimestamp  ReplyCount  \\\n",
       "0            kalloween               1         1622718043           0   \n",
       "1     chocolate desert               1         1622717685           0   \n",
       "2           Vantreesta               1         1622718307           0   \n",
       "3  Roberta L.Beauchamp               1         1622648872           0   \n",
       "4           fhquilting               1         1622718460           0   \n",
       "\n",
       "   ThumbsUpCount  ThumbsDownCount  BestScore  \\\n",
       "0              0                0        100   \n",
       "1              0                1        100   \n",
       "2              0                0        100   \n",
       "3              4                3        212   \n",
       "4              0                1        100   \n",
       "\n",
       "                                       Recipe_Review  \n",
       "0  This was so good!!  The pumpkin was perfect as...  \n",
       "1  So good!   Could not stop eating them, so bad....  \n",
       "2           I use a small ladle to fill muffin cups.  \n",
       "3  I made this and followed the instructions as d...  \n",
       "4  Very Good!  I used corn tortillas.  Used fresh...  "
      ]
     },
     "execution_count": 6,
     "metadata": {},
     "output_type": "execute_result"
    }
   ],
   "source": [
    "test_df.head(5)"
   ]
  },
  {
   "cell_type": "markdown",
   "id": "c9145343",
   "metadata": {
    "papermill": {
     "duration": 0.025998,
     "end_time": "2024-03-13T13:51:14.705171",
     "exception": false,
     "start_time": "2024-03-13T13:51:14.679173",
     "status": "completed"
    },
    "tags": []
   },
   "source": [
    "Here we can observe that the target variable \"Rating\" is the only difference in the train_data and test_data"
   ]
  },
  {
   "cell_type": "markdown",
   "id": "414a9b25",
   "metadata": {
    "papermill": {
     "duration": 0.025955,
     "end_time": "2024-03-13T13:51:14.758122",
     "exception": false,
     "start_time": "2024-03-13T13:51:14.732167",
     "status": "completed"
    },
    "tags": []
   },
   "source": [
    "**We seek to identify the data types of columns in the dataset, distinguishing between numerical columns that contain quantitative values and categorical columns that represent qualitative attributes.**"
   ]
  },
  {
   "cell_type": "code",
   "execution_count": 7,
   "id": "b0ab28bc",
   "metadata": {
    "execution": {
     "iopub.execute_input": "2024-03-13T13:51:14.812995Z",
     "iopub.status.busy": "2024-03-13T13:51:14.812387Z",
     "iopub.status.idle": "2024-03-13T13:51:14.821872Z",
     "shell.execute_reply": "2024-03-13T13:51:14.820959Z"
    },
    "papermill": {
     "duration": 0.040123,
     "end_time": "2024-03-13T13:51:14.824678",
     "exception": false,
     "start_time": "2024-03-13T13:51:14.784555",
     "status": "completed"
    },
    "tags": []
   },
   "outputs": [
    {
     "name": "stdout",
     "output_type": "stream",
     "text": [
      "Numerical Features: Index(['ID', 'RecipeNumber', 'RecipeCode', 'UserReputation',\n",
      "       'CreationTimestamp', 'ReplyCount', 'ThumbsUpCount', 'ThumbsDownCount',\n",
      "       'Rating', 'BestScore'],\n",
      "      dtype='object')\n",
      "Categorical Features: Index(['RecipeName', 'CommentID', 'UserID', 'UserName', 'Recipe_Review'], dtype='object')\n"
     ]
    }
   ],
   "source": [
    "Numerical_Features = train_df.select_dtypes(include=['number']).columns\n",
    "Categorical_features = train_df.select_dtypes(include=['object']).columns\n",
    "print(f\"Numerical Features: {Numerical_Features}\")\n",
    "print(f\"Categorical Features: {Categorical_features}\")\n",
    "total_features = list(Numerical_Features) + list(Categorical_features)"
   ]
  },
  {
   "cell_type": "code",
   "execution_count": 8,
   "id": "8039ade1",
   "metadata": {
    "execution": {
     "iopub.execute_input": "2024-03-13T13:51:14.879507Z",
     "iopub.status.busy": "2024-03-13T13:51:14.879056Z",
     "iopub.status.idle": "2024-03-13T13:51:14.885615Z",
     "shell.execute_reply": "2024-03-13T13:51:14.884085Z"
    },
    "papermill": {
     "duration": 0.037146,
     "end_time": "2024-03-13T13:51:14.888157",
     "exception": false,
     "start_time": "2024-03-13T13:51:14.851011",
     "status": "completed"
    },
    "tags": []
   },
   "outputs": [],
   "source": [
    "numerical_features = ['UserReputation', 'CreationTimestamp', 'ReplyCount', 'ThumbsUpCount', 'ThumbsDownCount', 'BestScore']\n",
    "#['RecipeNumber', 'RecipeCode'])-->These are treated as categorical due to their nature\n",
    "date_time_type_feature = ['CreationDatetime']\n",
    "categorical_features = ['CommentID', 'UserID', 'UserName','RecipeNumber', 'RecipeCode']\n",
    "text_features = ['RecipeName', 'Recipe_Review']"
   ]
  },
  {
   "cell_type": "code",
   "execution_count": 9,
   "id": "2dd2c8e0",
   "metadata": {
    "execution": {
     "iopub.execute_input": "2024-03-13T13:51:14.942440Z",
     "iopub.status.busy": "2024-03-13T13:51:14.942005Z",
     "iopub.status.idle": "2024-03-13T13:51:16.536202Z",
     "shell.execute_reply": "2024-03-13T13:51:16.534902Z"
    },
    "papermill": {
     "duration": 1.625472,
     "end_time": "2024-03-13T13:51:16.539566",
     "exception": false,
     "start_time": "2024-03-13T13:51:14.914094",
     "status": "completed"
    },
    "tags": []
   },
   "outputs": [],
   "source": [
    "import seaborn as sns\n",
    "import matplotlib.pyplot as plt"
   ]
  },
  {
   "cell_type": "code",
   "execution_count": 10,
   "id": "31d3284d",
   "metadata": {
    "execution": {
     "iopub.execute_input": "2024-03-13T13:51:16.595399Z",
     "iopub.status.busy": "2024-03-13T13:51:16.594076Z",
     "iopub.status.idle": "2024-03-13T13:51:16.997820Z",
     "shell.execute_reply": "2024-03-13T13:51:16.996277Z"
    },
    "papermill": {
     "duration": 0.434045,
     "end_time": "2024-03-13T13:51:17.000469",
     "exception": false,
     "start_time": "2024-03-13T13:51:16.566424",
     "status": "completed"
    },
    "tags": []
   },
   "outputs": [
    {
     "data": {
      "image/png": "[encoded data removed]",
      "text/plain": [
       "<Figure size 800x600 with 1 Axes>"
      ]
     },
     "metadata": {},
     "output_type": "display_data"
    }
   ],
   "source": [
    "# Distribution of Ratings\n",
    "plt.figure(figsize=(8, 6))\n",
    "sns.countplot(x='Rating', data=train_df)\n",
    "plt.title('Distribution of Recipe Ratings')\n",
    "plt.ylabel('Frequency')\n",
    "plt.xlabel('Rating')\n",
    "\n",
    "plt.tight_layout()\n",
    "plt.show()"
   ]
  },
  {
   "cell_type": "code",
   "execution_count": 11,
   "id": "bbc7c2e8",
   "metadata": {
    "execution": {
     "iopub.execute_input": "2024-03-13T13:51:17.056193Z",
     "iopub.status.busy": "2024-03-13T13:51:17.055761Z",
     "iopub.status.idle": "2024-03-13T13:51:17.066382Z",
     "shell.execute_reply": "2024-03-13T13:51:17.065045Z"
    },
    "papermill": {
     "duration": 0.041223,
     "end_time": "2024-03-13T13:51:17.068872",
     "exception": false,
     "start_time": "2024-03-13T13:51:17.027649",
     "status": "completed"
    },
    "tags": []
   },
   "outputs": [
    {
     "data": {
      "text/plain": [
       "Rating\n",
       "5    10371\n",
       "0     1272\n",
       "4     1241\n",
       "3      368\n",
       "1      210\n",
       "2      174\n",
       "Name: count, dtype: int64"
      ]
     },
     "execution_count": 11,
     "metadata": {},
     "output_type": "execute_result"
    }
   ],
   "source": [
    "train_df['Rating'].value_counts()"
   ]
  },
  {
   "cell_type": "code",
   "execution_count": 12,
   "id": "b7a68331",
   "metadata": {
    "execution": {
     "iopub.execute_input": "2024-03-13T13:51:17.125783Z",
     "iopub.status.busy": "2024-03-13T13:51:17.125081Z",
     "iopub.status.idle": "2024-03-13T13:51:17.384002Z",
     "shell.execute_reply": "2024-03-13T13:51:17.382688Z"
    },
    "papermill": {
     "duration": 0.291204,
     "end_time": "2024-03-13T13:51:17.386783",
     "exception": false,
     "start_time": "2024-03-13T13:51:17.095579",
     "status": "completed"
    },
    "tags": []
   },
   "outputs": [
    {
     "name": "stdout",
     "output_type": "stream",
     "text": [
      "Skewness of the target variable 'Rating': -2.128448045999372\n"
     ]
    },
    {
     "data": {
      "text/plain": [
       "Text(0.5, 1.0, 'Boxplot of Rating')"
      ]
     },
     "execution_count": 12,
     "metadata": {},
     "output_type": "execute_result"
    },
    {
     "data": {
      "image/png": "[encoded data removed]",
      "text/plain": [
       "<Figure size 640x480 with 1 Axes>"
      ]
     },
     "metadata": {},
     "output_type": "display_data"
    }
   ],
   "source": [
    "target_variable = 'Rating'\n",
    "# Print skewness of the target variable\n",
    "target_skewness = train_df[target_variable].skew()\n",
    "print(f\"Skewness of the target variable '{target_variable}': {target_skewness}\")\n",
    "\n",
    "# Visualize skewness using box plot\n",
    "sns.boxplot(x=train_df[target_variable])\n",
    "plt.title(f'Boxplot of {target_variable}')"
   ]
  },
  {
   "cell_type": "code",
   "execution_count": 13,
   "id": "13aa3631",
   "metadata": {
    "execution": {
     "iopub.execute_input": "2024-03-13T13:51:17.443193Z",
     "iopub.status.busy": "2024-03-13T13:51:17.442767Z",
     "iopub.status.idle": "2024-03-13T13:51:17.813310Z",
     "shell.execute_reply": "2024-03-13T13:51:17.811781Z"
    },
    "papermill": {
     "duration": 0.402232,
     "end_time": "2024-03-13T13:51:17.816210",
     "exception": false,
     "start_time": "2024-03-13T13:51:17.413978",
     "status": "completed"
    },
    "tags": []
   },
   "outputs": [
    {
     "data": {
      "image/png": "[encoded data removed]",
      "text/plain": [
       "<Figure size 640x480 with 1 Axes>"
      ]
     },
     "metadata": {},
     "output_type": "display_data"
    }
   ],
   "source": [
    "# Visualize skewness using violin plot\n",
    "sns.violinplot(x=train_df[target_variable])\n",
    "plt.title(f'Violin Plot of {target_variable}')\n",
    "plt.show()"
   ]
  },
  {
   "cell_type": "code",
   "execution_count": 14,
   "id": "545016e3",
   "metadata": {
    "execution": {
     "iopub.execute_input": "2024-03-13T13:51:17.874219Z",
     "iopub.status.busy": "2024-03-13T13:51:17.873769Z",
     "iopub.status.idle": "2024-03-13T13:51:18.398145Z",
     "shell.execute_reply": "2024-03-13T13:51:18.396923Z"
    },
    "papermill": {
     "duration": 0.557337,
     "end_time": "2024-03-13T13:51:18.401449",
     "exception": false,
     "start_time": "2024-03-13T13:51:17.844112",
     "status": "completed"
    },
    "tags": []
   },
   "outputs": [
    {
     "data": {
      "image/png": "[encoded data removed]",
      "text/plain": [
       "<Figure size 1000x800 with 2 Axes>"
      ]
     },
     "metadata": {},
     "output_type": "display_data"
    }
   ],
   "source": [
    "# Correlation Heatmap of Numerical Features\n",
    "numerical_features_corr = ['UserReputation', 'ReplyCount', 'ThumbsUpCount', 'ThumbsDownCount', 'BestScore']\n",
    "correlation_matrix = train_df[numerical_features_corr + ['Rating']].corr()\n",
    "\n",
    "plt.figure(figsize=(10, 8))\n",
    "sns.heatmap(correlation_matrix, annot=True, cmap='coolwarm')\n",
    "plt.title('Correlation Heatmap of Numerical Features')\n",
    "plt.show()"
   ]
  },
  {
   "cell_type": "code",
   "execution_count": 15,
   "id": "16bc3e39",
   "metadata": {
    "execution": {
     "iopub.execute_input": "2024-03-13T13:51:18.463150Z",
     "iopub.status.busy": "2024-03-13T13:51:18.462006Z",
     "iopub.status.idle": "2024-03-13T13:51:18.472057Z",
     "shell.execute_reply": "2024-03-13T13:51:18.470138Z"
    },
    "papermill": {
     "duration": 0.044135,
     "end_time": "2024-03-13T13:51:18.474923",
     "exception": false,
     "start_time": "2024-03-13T13:51:18.430788",
     "status": "completed"
    },
    "tags": []
   },
   "outputs": [
    {
     "name": "stdout",
     "output_type": "stream",
     "text": [
      "Correlation values with Rating:\n",
      "UserReputation     0.015038\n",
      "ReplyCount        -0.124860\n",
      "ThumbsUpCount     -0.051752\n",
      "ThumbsDownCount   -0.142273\n",
      "BestScore         -0.036719\n",
      "Name: Rating, dtype: float64\n"
     ]
    }
   ],
   "source": [
    "print(\"Correlation values with Rating:\")\n",
    "print(correlation_matrix['Rating'].drop('Rating'))"
   ]
  },
  {
   "cell_type": "code",
   "execution_count": 16,
   "id": "8192e8df",
   "metadata": {
    "execution": {
     "iopub.execute_input": "2024-03-13T13:51:18.536906Z",
     "iopub.status.busy": "2024-03-13T13:51:18.535610Z",
     "iopub.status.idle": "2024-03-13T13:51:18.548553Z",
     "shell.execute_reply": "2024-03-13T13:51:18.547208Z"
    },
    "papermill": {
     "duration": 0.047063,
     "end_time": "2024-03-13T13:51:18.551515",
     "exception": false,
     "start_time": "2024-03-13T13:51:18.504452",
     "status": "completed"
    },
    "tags": []
   },
   "outputs": [
    {
     "name": "stdout",
     "output_type": "stream",
     "text": [
      "Skewness of numerical features:\n",
      "UserReputation       33.151661\n",
      "CreationTimestamp     5.447766\n",
      "ReplyCount           11.408240\n",
      "ThumbsUpCount         7.886147\n",
      "ThumbsDownCount      16.660097\n",
      "BestScore             3.393192\n",
      "dtype: float64\n"
     ]
    }
   ],
   "source": [
    "# Check skewness of numerical features\n",
    "skewness = train_df[numerical_features].skew()\n",
    "print(\"Skewness of numerical features:\")\n",
    "print(skewness)"
   ]
  },
  {
   "cell_type": "code",
   "execution_count": 17,
   "id": "04b2755d",
   "metadata": {
    "execution": {
     "iopub.execute_input": "2024-03-13T13:51:18.614761Z",
     "iopub.status.busy": "2024-03-13T13:51:18.613198Z",
     "iopub.status.idle": "2024-03-13T13:51:20.616513Z",
     "shell.execute_reply": "2024-03-13T13:51:20.615213Z"
    },
    "papermill": {
     "duration": 2.038609,
     "end_time": "2024-03-13T13:51:20.619998",
     "exception": false,
     "start_time": "2024-03-13T13:51:18.581389",
     "status": "completed"
    },
    "tags": []
   },
   "outputs": [
    {
     "data": {
      "image/png": "[encoded data removed]",
      "text/plain": [
       "<Figure size 1600x1200 with 6 Axes>"
      ]
     },
     "metadata": {},
     "output_type": "display_data"
    }
   ],
   "source": [
    "# Relationship between numerical features and the target variable (Rating)\n",
    "fig, axes = plt.subplots(nrows=3, ncols=2, figsize=(16, 12))\n",
    "axes = axes.flatten()\n",
    "\n",
    "for ax, feature in zip(axes, numerical_features):\n",
    "    sns.boxplot(x='Rating', y=feature, data=train_df, ax=ax)\n",
    "    ax.set_title(f'{feature} by Rating')\n",
    "    ax.set_ylabel(feature)\n",
    "    ax.set_xlabel('Rating')\n",
    "plt.tight_layout()\n",
    "plt.show()"
   ]
  },
  {
   "cell_type": "markdown",
   "id": "54135540",
   "metadata": {
    "papermill": {
     "duration": 0.032293,
     "end_time": "2024-03-13T13:51:20.683726",
     "exception": false,
     "start_time": "2024-03-13T13:51:20.651433",
     "status": "completed"
    },
    "tags": []
   },
   "source": [
    "# **Data Preprocessing**"
   ]
  },
  {
   "cell_type": "markdown",
   "id": "8ef8413c",
   "metadata": {
    "papermill": {
     "duration": 0.030965,
     "end_time": "2024-03-13T13:51:20.747650",
     "exception": false,
     "start_time": "2024-03-13T13:51:20.716685",
     "status": "completed"
    },
    "tags": []
   },
   "source": [
    "Checking the missing or NaN values"
   ]
  },
  {
   "cell_type": "code",
   "execution_count": 18,
   "id": "f5e5befb",
   "metadata": {
    "execution": {
     "iopub.execute_input": "2024-03-13T13:51:20.813095Z",
     "iopub.status.busy": "2024-03-13T13:51:20.812563Z",
     "iopub.status.idle": "2024-03-13T13:51:20.830107Z",
     "shell.execute_reply": "2024-03-13T13:51:20.829249Z"
    },
    "papermill": {
     "duration": 0.053409,
     "end_time": "2024-03-13T13:51:20.832329",
     "exception": false,
     "start_time": "2024-03-13T13:51:20.778920",
     "status": "completed"
    },
    "tags": []
   },
   "outputs": [
    {
     "data": {
      "text/plain": [
       "ID                   0\n",
       "RecipeNumber         0\n",
       "RecipeCode           0\n",
       "RecipeName           0\n",
       "CommentID            0\n",
       "UserID               0\n",
       "UserName             0\n",
       "UserReputation       0\n",
       "CreationTimestamp    0\n",
       "ReplyCount           0\n",
       "ThumbsUpCount        0\n",
       "ThumbsDownCount      0\n",
       "Rating               0\n",
       "BestScore            0\n",
       "Recipe_Review        2\n",
       "dtype: int64"
      ]
     },
     "execution_count": 18,
     "metadata": {},
     "output_type": "execute_result"
    }
   ],
   "source": [
    " train_df.isnull().sum()    # Counting the missing values"
   ]
  },
  {
   "cell_type": "code",
   "execution_count": 19,
   "id": "2469757c",
   "metadata": {
    "execution": {
     "iopub.execute_input": "2024-03-13T13:51:20.898286Z",
     "iopub.status.busy": "2024-03-13T13:51:20.897310Z",
     "iopub.status.idle": "2024-03-13T13:51:20.910945Z",
     "shell.execute_reply": "2024-03-13T13:51:20.909463Z"
    },
    "papermill": {
     "duration": 0.049617,
     "end_time": "2024-03-13T13:51:20.913702",
     "exception": false,
     "start_time": "2024-03-13T13:51:20.864085",
     "status": "completed"
    },
    "tags": []
   },
   "outputs": [
    {
     "data": {
      "text/plain": [
       "ID                   0\n",
       "RecipeNumber         0\n",
       "RecipeCode           0\n",
       "RecipeName           0\n",
       "CommentID            0\n",
       "UserID               0\n",
       "UserName             0\n",
       "UserReputation       0\n",
       "CreationTimestamp    0\n",
       "ReplyCount           0\n",
       "ThumbsUpCount        0\n",
       "ThumbsDownCount      0\n",
       "BestScore            0\n",
       "Recipe_Review        0\n",
       "dtype: int64"
      ]
     },
     "execution_count": 19,
     "metadata": {},
     "output_type": "execute_result"
    }
   ],
   "source": [
    " test_df.isnull().sum()"
   ]
  },
  {
   "cell_type": "code",
   "execution_count": 20,
   "id": "a9ac49b3",
   "metadata": {
    "execution": {
     "iopub.execute_input": "2024-03-13T13:51:20.980095Z",
     "iopub.status.busy": "2024-03-13T13:51:20.979624Z",
     "iopub.status.idle": "2024-03-13T13:51:20.989866Z",
     "shell.execute_reply": "2024-03-13T13:51:20.988601Z"
    },
    "papermill": {
     "duration": 0.046627,
     "end_time": "2024-03-13T13:51:20.992657",
     "exception": false,
     "start_time": "2024-03-13T13:51:20.946030",
     "status": "completed"
    },
    "tags": []
   },
   "outputs": [],
   "source": [
    "train_df['Recipe_Review'].fillna(' ', inplace=True)"
   ]
  },
  {
   "cell_type": "markdown",
   "id": "8ed13766",
   "metadata": {
    "papermill": {
     "duration": 0.031774,
     "end_time": "2024-03-13T13:51:21.059702",
     "exception": false,
     "start_time": "2024-03-13T13:51:21.027928",
     "status": "completed"
    },
    "tags": []
   },
   "source": [
    "## Feature Engineering"
   ]
  },
  {
   "cell_type": "markdown",
   "id": "25c31a89",
   "metadata": {
    "papermill": {
     "duration": 0.031143,
     "end_time": "2024-03-13T13:51:21.122615",
     "exception": false,
     "start_time": "2024-03-13T13:51:21.091472",
     "status": "completed"
    },
    "tags": []
   },
   "source": [
    "**Time Features from CreationTimestamp**"
   ]
  },
  {
   "cell_type": "code",
   "execution_count": 21,
   "id": "5eb0ddfd",
   "metadata": {
    "execution": {
     "iopub.execute_input": "2024-03-13T13:51:21.189560Z",
     "iopub.status.busy": "2024-03-13T13:51:21.189116Z",
     "iopub.status.idle": "2024-03-13T13:51:21.212204Z",
     "shell.execute_reply": "2024-03-13T13:51:21.210976Z"
    },
    "papermill": {
     "duration": 0.059661,
     "end_time": "2024-03-13T13:51:21.215121",
     "exception": false,
     "start_time": "2024-03-13T13:51:21.155460",
     "status": "completed"
    },
    "tags": []
   },
   "outputs": [],
   "source": [
    "# Convert unix timestamp to datetime\n",
    "train_df['CreationDatetime'] = pd.to_datetime(train_df['CreationTimestamp'], unit='s')\n",
    "# Extract day of week and hour of day\n",
    "train_df['DayOfWeek'] = train_df['CreationDatetime'].dt.dayofweek\n",
    "train_df['HourOfDay'] = train_df['CreationDatetime'].dt.hour\n",
    "\n",
    "test_df['CreationDatetime'] = pd.to_datetime(test_df['CreationTimestamp'], unit='s')\n",
    "# Extract day of week and hour of day\n",
    "test_df['DayOfWeek'] = test_df['CreationDatetime'].dt.dayofweek\n",
    "test_df['HourOfDay'] = test_df['CreationDatetime'].dt.hour"
   ]
  },
  {
   "cell_type": "markdown",
   "id": "f4b3fb94",
   "metadata": {
    "papermill": {
     "duration": 0.031386,
     "end_time": "2024-03-13T13:51:21.278105",
     "exception": false,
     "start_time": "2024-03-13T13:51:21.246719",
     "status": "completed"
    },
    "tags": []
   },
   "source": [
    "I consider DayofWeek as a categorical feature"
   ]
  },
  {
   "cell_type": "code",
   "execution_count": 22,
   "id": "aabfa53b",
   "metadata": {
    "execution": {
     "iopub.execute_input": "2024-03-13T13:51:21.345817Z",
     "iopub.status.busy": "2024-03-13T13:51:21.345355Z",
     "iopub.status.idle": "2024-03-13T13:51:21.365499Z",
     "shell.execute_reply": "2024-03-13T13:51:21.364297Z"
    },
    "papermill": {
     "duration": 0.05775,
     "end_time": "2024-03-13T13:51:21.368444",
     "exception": false,
     "start_time": "2024-03-13T13:51:21.310694",
     "status": "completed"
    },
    "tags": []
   },
   "outputs": [
    {
     "data": {
      "text/html": [
       "<div>\n",
       "<style scoped>\n",
       "    .dataframe tbody tr th:only-of-type {\n",
       "        vertical-align: middle;\n",
       "    }\n",
       "\n",
       "    .dataframe tbody tr th {\n",
       "        vertical-align: top;\n",
       "    }\n",
       "\n",
       "    .dataframe thead th {\n",
       "        text-align: right;\n",
       "    }\n",
       "</style>\n",
       "<table border=\"1\" class=\"dataframe\">\n",
       "  <thead>\n",
       "    <tr style=\"text-align: right;\">\n",
       "      <th></th>\n",
       "      <th>ID</th>\n",
       "      <th>RecipeNumber</th>\n",
       "      <th>RecipeCode</th>\n",
       "      <th>RecipeName</th>\n",
       "      <th>CommentID</th>\n",
       "      <th>UserID</th>\n",
       "      <th>UserName</th>\n",
       "      <th>UserReputation</th>\n",
       "      <th>CreationTimestamp</th>\n",
       "      <th>ReplyCount</th>\n",
       "      <th>ThumbsUpCount</th>\n",
       "      <th>ThumbsDownCount</th>\n",
       "      <th>BestScore</th>\n",
       "      <th>Recipe_Review</th>\n",
       "      <th>CreationDatetime</th>\n",
       "      <th>DayOfWeek</th>\n",
       "      <th>HourOfDay</th>\n",
       "    </tr>\n",
       "  </thead>\n",
       "  <tbody>\n",
       "    <tr>\n",
       "      <th>0</th>\n",
       "      <td>86</td>\n",
       "      <td>45</td>\n",
       "      <td>41384</td>\n",
       "      <td>Black Bean ‘n’ Pumpkin Chili</td>\n",
       "      <td>sp_aUSaElGf_41384_c_341929</td>\n",
       "      <td>u_1oKc4U6bh65cEli8Z8eTIf98Vpr</td>\n",
       "      <td>kalloween</td>\n",
       "      <td>1</td>\n",
       "      <td>1622718043</td>\n",
       "      <td>0</td>\n",
       "      <td>0</td>\n",
       "      <td>0</td>\n",
       "      <td>100</td>\n",
       "      <td>This was so good!!  The pumpkin was perfect as...</td>\n",
       "      <td>2021-06-03 11:00:43</td>\n",
       "      <td>3</td>\n",
       "      <td>11</td>\n",
       "    </tr>\n",
       "    <tr>\n",
       "      <th>1</th>\n",
       "      <td>102</td>\n",
       "      <td>53</td>\n",
       "      <td>3143</td>\n",
       "      <td>Pumpkin Bars</td>\n",
       "      <td>sp_aUSaElGf_3143_c_274545</td>\n",
       "      <td>u_1oKW5seFLQMSwAeOfBVmwJizy5D</td>\n",
       "      <td>chocolate desert</td>\n",
       "      <td>1</td>\n",
       "      <td>1622717685</td>\n",
       "      <td>0</td>\n",
       "      <td>0</td>\n",
       "      <td>1</td>\n",
       "      <td>100</td>\n",
       "      <td>So good!   Could not stop eating them, so bad....</td>\n",
       "      <td>2021-06-03 10:54:45</td>\n",
       "      <td>3</td>\n",
       "      <td>10</td>\n",
       "    </tr>\n",
       "    <tr>\n",
       "      <th>2</th>\n",
       "      <td>156</td>\n",
       "      <td>53</td>\n",
       "      <td>3143</td>\n",
       "      <td>Pumpkin Bars</td>\n",
       "      <td>sp_aUSaElGf_3143_c_398512</td>\n",
       "      <td>u_1oKZ6GUIAIol8xe6oEI7t1Mpxdz</td>\n",
       "      <td>Vantreesta</td>\n",
       "      <td>1</td>\n",
       "      <td>1622718307</td>\n",
       "      <td>0</td>\n",
       "      <td>0</td>\n",
       "      <td>0</td>\n",
       "      <td>100</td>\n",
       "      <td>I use a small ladle to fill muffin cups.</td>\n",
       "      <td>2021-06-03 11:05:07</td>\n",
       "      <td>3</td>\n",
       "      <td>11</td>\n",
       "    </tr>\n",
       "    <tr>\n",
       "      <th>3</th>\n",
       "      <td>18</td>\n",
       "      <td>89</td>\n",
       "      <td>1324</td>\n",
       "      <td>Porcupine Meatballs</td>\n",
       "      <td>sp_aUSaElGf_1324_c_431662</td>\n",
       "      <td>u_1oKWCP33NVk4Osfpu4VJuIckEF0</td>\n",
       "      <td>Roberta L.Beauchamp</td>\n",
       "      <td>1</td>\n",
       "      <td>1622648872</td>\n",
       "      <td>0</td>\n",
       "      <td>4</td>\n",
       "      <td>3</td>\n",
       "      <td>212</td>\n",
       "      <td>I made this and followed the instructions as d...</td>\n",
       "      <td>2021-06-02 15:47:52</td>\n",
       "      <td>2</td>\n",
       "      <td>15</td>\n",
       "    </tr>\n",
       "    <tr>\n",
       "      <th>4</th>\n",
       "      <td>27</td>\n",
       "      <td>70</td>\n",
       "      <td>32264</td>\n",
       "      <td>Easy Chicken Enchiladas</td>\n",
       "      <td>sp_aUSaElGf_32264_c_423935</td>\n",
       "      <td>u_1oKVhIJMuUlrSCVkbO1jheVTol8</td>\n",
       "      <td>fhquilting</td>\n",
       "      <td>1</td>\n",
       "      <td>1622718460</td>\n",
       "      <td>0</td>\n",
       "      <td>0</td>\n",
       "      <td>1</td>\n",
       "      <td>100</td>\n",
       "      <td>Very Good!  I used corn tortillas.  Used fresh...</td>\n",
       "      <td>2021-06-03 11:07:40</td>\n",
       "      <td>3</td>\n",
       "      <td>11</td>\n",
       "    </tr>\n",
       "  </tbody>\n",
       "</table>\n",
       "</div>"
      ],
      "text/plain": [
       "    ID  RecipeNumber  RecipeCode                    RecipeName  \\\n",
       "0   86            45       41384  Black Bean ‘n’ Pumpkin Chili   \n",
       "1  102            53        3143                  Pumpkin Bars   \n",
       "2  156            53        3143                  Pumpkin Bars   \n",
       "3   18            89        1324           Porcupine Meatballs   \n",
       "4   27            70       32264       Easy Chicken Enchiladas   \n",
       "\n",
       "                    CommentID                         UserID  \\\n",
       "0  sp_aUSaElGf_41384_c_341929  u_1oKc4U6bh65cEli8Z8eTIf98Vpr   \n",
       "1   sp_aUSaElGf_3143_c_274545  u_1oKW5seFLQMSwAeOfBVmwJizy5D   \n",
       "2   sp_aUSaElGf_3143_c_398512  u_1oKZ6GUIAIol8xe6oEI7t1Mpxdz   \n",
       "3   sp_aUSaElGf_1324_c_431662  u_1oKWCP33NVk4Osfpu4VJuIckEF0   \n",
       "4  sp_aUSaElGf_32264_c_423935  u_1oKVhIJMuUlrSCVkbO1jheVTol8   \n",
       "\n",
       "              UserName  UserReputation  CreationTimestamp  ReplyCount  \\\n",
       "0            kalloween               1         1622718043           0   \n",
       "1     chocolate desert               1         1622717685           0   \n",
       "2           Vantreesta               1         1622718307           0   \n",
       "3  Roberta L.Beauchamp               1         1622648872           0   \n",
       "4           fhquilting               1         1622718460           0   \n",
       "\n",
       "   ThumbsUpCount  ThumbsDownCount  BestScore  \\\n",
       "0              0                0        100   \n",
       "1              0                1        100   \n",
       "2              0                0        100   \n",
       "3              4                3        212   \n",
       "4              0                1        100   \n",
       "\n",
       "                                       Recipe_Review    CreationDatetime  \\\n",
       "0  This was so good!!  The pumpkin was perfect as... 2021-06-03 11:00:43   \n",
       "1  So good!   Could not stop eating them, so bad.... 2021-06-03 10:54:45   \n",
       "2           I use a small ladle to fill muffin cups. 2021-06-03 11:05:07   \n",
       "3  I made this and followed the instructions as d... 2021-06-02 15:47:52   \n",
       "4  Very Good!  I used corn tortillas.  Used fresh... 2021-06-03 11:07:40   \n",
       "\n",
       "   DayOfWeek  HourOfDay  \n",
       "0          3         11  \n",
       "1          3         10  \n",
       "2          3         11  \n",
       "3          2         15  \n",
       "4          3         11  "
      ]
     },
     "execution_count": 22,
     "metadata": {},
     "output_type": "execute_result"
    }
   ],
   "source": [
    "test_df.head()"
   ]
  },
  {
   "cell_type": "markdown",
   "id": "264a0b36",
   "metadata": {
    "papermill": {
     "duration": 0.033464,
     "end_time": "2024-03-13T13:51:21.435086",
     "exception": false,
     "start_time": "2024-03-13T13:51:21.401622",
     "status": "completed"
    },
    "tags": []
   },
   "source": [
    "**Interaction Features**"
   ]
  },
  {
   "cell_type": "code",
   "execution_count": 23,
   "id": "7c282a43",
   "metadata": {
    "execution": {
     "iopub.execute_input": "2024-03-13T13:51:21.502759Z",
     "iopub.status.busy": "2024-03-13T13:51:21.501963Z",
     "iopub.status.idle": "2024-03-13T13:51:21.513107Z",
     "shell.execute_reply": "2024-03-13T13:51:21.512258Z"
    },
    "papermill": {
     "duration": 0.048129,
     "end_time": "2024-03-13T13:51:21.515714",
     "exception": false,
     "start_time": "2024-03-13T13:51:21.467585",
     "status": "completed"
    },
    "tags": []
   },
   "outputs": [],
   "source": [
    "# Total Interaction Count\n",
    "train_df['TotalInteractions'] = train_df['ReplyCount'] + train_df['ThumbsUpCount'] + train_df['ThumbsDownCount']\n",
    "test_df['TotalInteractions'] = test_df['ReplyCount'] + test_df['ThumbsUpCount'] + test_df['ThumbsDownCount']\n",
    "\n",
    "# Thumbs Ratio\n",
    "train_df['ThumbsRatio'] = train_df['ThumbsUpCount'] / (train_df['ThumbsDownCount'] + 1) # Adding 1 to avoid division by zero\n",
    "test_df['ThumbsRatio'] = test_df['ThumbsUpCount'] / (test_df['ThumbsDownCount'] + 1) "
   ]
  },
  {
   "cell_type": "code",
   "execution_count": 24,
   "id": "918cec60",
   "metadata": {
    "execution": {
     "iopub.execute_input": "2024-03-13T13:51:21.585139Z",
     "iopub.status.busy": "2024-03-13T13:51:21.584737Z",
     "iopub.status.idle": "2024-03-13T13:51:21.606782Z",
     "shell.execute_reply": "2024-03-13T13:51:21.605654Z"
    },
    "papermill": {
     "duration": 0.061296,
     "end_time": "2024-03-13T13:51:21.609387",
     "exception": false,
     "start_time": "2024-03-13T13:51:21.548091",
     "status": "completed"
    },
    "tags": []
   },
   "outputs": [
    {
     "data": {
      "text/html": [
       "<div>\n",
       "<style scoped>\n",
       "    .dataframe tbody tr th:only-of-type {\n",
       "        vertical-align: middle;\n",
       "    }\n",
       "\n",
       "    .dataframe tbody tr th {\n",
       "        vertical-align: top;\n",
       "    }\n",
       "\n",
       "    .dataframe thead th {\n",
       "        text-align: right;\n",
       "    }\n",
       "</style>\n",
       "<table border=\"1\" class=\"dataframe\">\n",
       "  <thead>\n",
       "    <tr style=\"text-align: right;\">\n",
       "      <th></th>\n",
       "      <th>ID</th>\n",
       "      <th>RecipeNumber</th>\n",
       "      <th>RecipeCode</th>\n",
       "      <th>RecipeName</th>\n",
       "      <th>CommentID</th>\n",
       "      <th>UserID</th>\n",
       "      <th>UserName</th>\n",
       "      <th>UserReputation</th>\n",
       "      <th>CreationTimestamp</th>\n",
       "      <th>ReplyCount</th>\n",
       "      <th>ThumbsUpCount</th>\n",
       "      <th>ThumbsDownCount</th>\n",
       "      <th>BestScore</th>\n",
       "      <th>Recipe_Review</th>\n",
       "      <th>CreationDatetime</th>\n",
       "      <th>DayOfWeek</th>\n",
       "      <th>HourOfDay</th>\n",
       "      <th>TotalInteractions</th>\n",
       "      <th>ThumbsRatio</th>\n",
       "    </tr>\n",
       "  </thead>\n",
       "  <tbody>\n",
       "    <tr>\n",
       "      <th>0</th>\n",
       "      <td>86</td>\n",
       "      <td>45</td>\n",
       "      <td>41384</td>\n",
       "      <td>Black Bean ‘n’ Pumpkin Chili</td>\n",
       "      <td>sp_aUSaElGf_41384_c_341929</td>\n",
       "      <td>u_1oKc4U6bh65cEli8Z8eTIf98Vpr</td>\n",
       "      <td>kalloween</td>\n",
       "      <td>1</td>\n",
       "      <td>1622718043</td>\n",
       "      <td>0</td>\n",
       "      <td>0</td>\n",
       "      <td>0</td>\n",
       "      <td>100</td>\n",
       "      <td>This was so good!!  The pumpkin was perfect as...</td>\n",
       "      <td>2021-06-03 11:00:43</td>\n",
       "      <td>3</td>\n",
       "      <td>11</td>\n",
       "      <td>0</td>\n",
       "      <td>0.0</td>\n",
       "    </tr>\n",
       "    <tr>\n",
       "      <th>1</th>\n",
       "      <td>102</td>\n",
       "      <td>53</td>\n",
       "      <td>3143</td>\n",
       "      <td>Pumpkin Bars</td>\n",
       "      <td>sp_aUSaElGf_3143_c_274545</td>\n",
       "      <td>u_1oKW5seFLQMSwAeOfBVmwJizy5D</td>\n",
       "      <td>chocolate desert</td>\n",
       "      <td>1</td>\n",
       "      <td>1622717685</td>\n",
       "      <td>0</td>\n",
       "      <td>0</td>\n",
       "      <td>1</td>\n",
       "      <td>100</td>\n",
       "      <td>So good!   Could not stop eating them, so bad....</td>\n",
       "      <td>2021-06-03 10:54:45</td>\n",
       "      <td>3</td>\n",
       "      <td>10</td>\n",
       "      <td>1</td>\n",
       "      <td>0.0</td>\n",
       "    </tr>\n",
       "    <tr>\n",
       "      <th>2</th>\n",
       "      <td>156</td>\n",
       "      <td>53</td>\n",
       "      <td>3143</td>\n",
       "      <td>Pumpkin Bars</td>\n",
       "      <td>sp_aUSaElGf_3143_c_398512</td>\n",
       "      <td>u_1oKZ6GUIAIol8xe6oEI7t1Mpxdz</td>\n",
       "      <td>Vantreesta</td>\n",
       "      <td>1</td>\n",
       "      <td>1622718307</td>\n",
       "      <td>0</td>\n",
       "      <td>0</td>\n",
       "      <td>0</td>\n",
       "      <td>100</td>\n",
       "      <td>I use a small ladle to fill muffin cups.</td>\n",
       "      <td>2021-06-03 11:05:07</td>\n",
       "      <td>3</td>\n",
       "      <td>11</td>\n",
       "      <td>0</td>\n",
       "      <td>0.0</td>\n",
       "    </tr>\n",
       "    <tr>\n",
       "      <th>3</th>\n",
       "      <td>18</td>\n",
       "      <td>89</td>\n",
       "      <td>1324</td>\n",
       "      <td>Porcupine Meatballs</td>\n",
       "      <td>sp_aUSaElGf_1324_c_431662</td>\n",
       "      <td>u_1oKWCP33NVk4Osfpu4VJuIckEF0</td>\n",
       "      <td>Roberta L.Beauchamp</td>\n",
       "      <td>1</td>\n",
       "      <td>1622648872</td>\n",
       "      <td>0</td>\n",
       "      <td>4</td>\n",
       "      <td>3</td>\n",
       "      <td>212</td>\n",
       "      <td>I made this and followed the instructions as d...</td>\n",
       "      <td>2021-06-02 15:47:52</td>\n",
       "      <td>2</td>\n",
       "      <td>15</td>\n",
       "      <td>7</td>\n",
       "      <td>1.0</td>\n",
       "    </tr>\n",
       "    <tr>\n",
       "      <th>4</th>\n",
       "      <td>27</td>\n",
       "      <td>70</td>\n",
       "      <td>32264</td>\n",
       "      <td>Easy Chicken Enchiladas</td>\n",
       "      <td>sp_aUSaElGf_32264_c_423935</td>\n",
       "      <td>u_1oKVhIJMuUlrSCVkbO1jheVTol8</td>\n",
       "      <td>fhquilting</td>\n",
       "      <td>1</td>\n",
       "      <td>1622718460</td>\n",
       "      <td>0</td>\n",
       "      <td>0</td>\n",
       "      <td>1</td>\n",
       "      <td>100</td>\n",
       "      <td>Very Good!  I used corn tortillas.  Used fresh...</td>\n",
       "      <td>2021-06-03 11:07:40</td>\n",
       "      <td>3</td>\n",
       "      <td>11</td>\n",
       "      <td>1</td>\n",
       "      <td>0.0</td>\n",
       "    </tr>\n",
       "  </tbody>\n",
       "</table>\n",
       "</div>"
      ],
      "text/plain": [
       "    ID  RecipeNumber  RecipeCode                    RecipeName  \\\n",
       "0   86            45       41384  Black Bean ‘n’ Pumpkin Chili   \n",
       "1  102            53        3143                  Pumpkin Bars   \n",
       "2  156            53        3143                  Pumpkin Bars   \n",
       "3   18            89        1324           Porcupine Meatballs   \n",
       "4   27            70       32264       Easy Chicken Enchiladas   \n",
       "\n",
       "                    CommentID                         UserID  \\\n",
       "0  sp_aUSaElGf_41384_c_341929  u_1oKc4U6bh65cEli8Z8eTIf98Vpr   \n",
       "1   sp_aUSaElGf_3143_c_274545  u_1oKW5seFLQMSwAeOfBVmwJizy5D   \n",
       "2   sp_aUSaElGf_3143_c_398512  u_1oKZ6GUIAIol8xe6oEI7t1Mpxdz   \n",
       "3   sp_aUSaElGf_1324_c_431662  u_1oKWCP33NVk4Osfpu4VJuIckEF0   \n",
       "4  sp_aUSaElGf_32264_c_423935  u_1oKVhIJMuUlrSCVkbO1jheVTol8   \n",
       "\n",
       "              UserName  UserReputation  CreationTimestamp  ReplyCount  \\\n",
       "0            kalloween               1         1622718043           0   \n",
       "1     chocolate desert               1         1622717685           0   \n",
       "2           Vantreesta               1         1622718307           0   \n",
       "3  Roberta L.Beauchamp               1         1622648872           0   \n",
       "4           fhquilting               1         1622718460           0   \n",
       "\n",
       "   ThumbsUpCount  ThumbsDownCount  BestScore  \\\n",
       "0              0                0        100   \n",
       "1              0                1        100   \n",
       "2              0                0        100   \n",
       "3              4                3        212   \n",
       "4              0                1        100   \n",
       "\n",
       "                                       Recipe_Review    CreationDatetime  \\\n",
       "0  This was so good!!  The pumpkin was perfect as... 2021-06-03 11:00:43   \n",
       "1  So good!   Could not stop eating them, so bad.... 2021-06-03 10:54:45   \n",
       "2           I use a small ladle to fill muffin cups. 2021-06-03 11:05:07   \n",
       "3  I made this and followed the instructions as d... 2021-06-02 15:47:52   \n",
       "4  Very Good!  I used corn tortillas.  Used fresh... 2021-06-03 11:07:40   \n",
       "\n",
       "   DayOfWeek  HourOfDay  TotalInteractions  ThumbsRatio  \n",
       "0          3         11                  0          0.0  \n",
       "1          3         10                  1          0.0  \n",
       "2          3         11                  0          0.0  \n",
       "3          2         15                  7          1.0  \n",
       "4          3         11                  1          0.0  "
      ]
     },
     "execution_count": 24,
     "metadata": {},
     "output_type": "execute_result"
    }
   ],
   "source": [
    "test_df.head()"
   ]
  },
  {
   "cell_type": "code",
   "execution_count": 25,
   "id": "2c2a9260",
   "metadata": {
    "execution": {
     "iopub.execute_input": "2024-03-13T13:51:21.679192Z",
     "iopub.status.busy": "2024-03-13T13:51:21.678373Z",
     "iopub.status.idle": "2024-03-13T13:51:21.693590Z",
     "shell.execute_reply": "2024-03-13T13:51:21.692701Z"
    },
    "papermill": {
     "duration": 0.052491,
     "end_time": "2024-03-13T13:51:21.696255",
     "exception": false,
     "start_time": "2024-03-13T13:51:21.643764",
     "status": "completed"
    },
    "tags": []
   },
   "outputs": [],
   "source": [
    "# Drop unnecessary columns\n",
    "train_df.drop(['CreationDatetime','ThumbsUpCount', 'ThumbsDownCount', 'ReplyCount', ], axis=1, inplace=True)\n",
    "test_df.drop(['CreationDatetime','ThumbsUpCount', 'ThumbsDownCount', 'ReplyCount', ], axis=1, inplace=True)"
   ]
  },
  {
   "cell_type": "code",
   "execution_count": 26,
   "id": "f956b79e",
   "metadata": {
    "execution": {
     "iopub.execute_input": "2024-03-13T13:51:21.766161Z",
     "iopub.status.busy": "2024-03-13T13:51:21.765099Z",
     "iopub.status.idle": "2024-03-13T13:51:21.784826Z",
     "shell.execute_reply": "2024-03-13T13:51:21.783695Z"
    },
    "papermill": {
     "duration": 0.057942,
     "end_time": "2024-03-13T13:51:21.787439",
     "exception": false,
     "start_time": "2024-03-13T13:51:21.729497",
     "status": "completed"
    },
    "tags": []
   },
   "outputs": [
    {
     "data": {
      "text/html": [
       "<div>\n",
       "<style scoped>\n",
       "    .dataframe tbody tr th:only-of-type {\n",
       "        vertical-align: middle;\n",
       "    }\n",
       "\n",
       "    .dataframe tbody tr th {\n",
       "        vertical-align: top;\n",
       "    }\n",
       "\n",
       "    .dataframe thead th {\n",
       "        text-align: right;\n",
       "    }\n",
       "</style>\n",
       "<table border=\"1\" class=\"dataframe\">\n",
       "  <thead>\n",
       "    <tr style=\"text-align: right;\">\n",
       "      <th></th>\n",
       "      <th>ID</th>\n",
       "      <th>RecipeNumber</th>\n",
       "      <th>RecipeCode</th>\n",
       "      <th>RecipeName</th>\n",
       "      <th>CommentID</th>\n",
       "      <th>UserID</th>\n",
       "      <th>UserName</th>\n",
       "      <th>UserReputation</th>\n",
       "      <th>CreationTimestamp</th>\n",
       "      <th>BestScore</th>\n",
       "      <th>Recipe_Review</th>\n",
       "      <th>DayOfWeek</th>\n",
       "      <th>HourOfDay</th>\n",
       "      <th>TotalInteractions</th>\n",
       "      <th>ThumbsRatio</th>\n",
       "    </tr>\n",
       "  </thead>\n",
       "  <tbody>\n",
       "    <tr>\n",
       "      <th>0</th>\n",
       "      <td>86</td>\n",
       "      <td>45</td>\n",
       "      <td>41384</td>\n",
       "      <td>Black Bean ‘n’ Pumpkin Chili</td>\n",
       "      <td>sp_aUSaElGf_41384_c_341929</td>\n",
       "      <td>u_1oKc4U6bh65cEli8Z8eTIf98Vpr</td>\n",
       "      <td>kalloween</td>\n",
       "      <td>1</td>\n",
       "      <td>1622718043</td>\n",
       "      <td>100</td>\n",
       "      <td>This was so good!!  The pumpkin was perfect as...</td>\n",
       "      <td>3</td>\n",
       "      <td>11</td>\n",
       "      <td>0</td>\n",
       "      <td>0.0</td>\n",
       "    </tr>\n",
       "    <tr>\n",
       "      <th>1</th>\n",
       "      <td>102</td>\n",
       "      <td>53</td>\n",
       "      <td>3143</td>\n",
       "      <td>Pumpkin Bars</td>\n",
       "      <td>sp_aUSaElGf_3143_c_274545</td>\n",
       "      <td>u_1oKW5seFLQMSwAeOfBVmwJizy5D</td>\n",
       "      <td>chocolate desert</td>\n",
       "      <td>1</td>\n",
       "      <td>1622717685</td>\n",
       "      <td>100</td>\n",
       "      <td>So good!   Could not stop eating them, so bad....</td>\n",
       "      <td>3</td>\n",
       "      <td>10</td>\n",
       "      <td>1</td>\n",
       "      <td>0.0</td>\n",
       "    </tr>\n",
       "    <tr>\n",
       "      <th>2</th>\n",
       "      <td>156</td>\n",
       "      <td>53</td>\n",
       "      <td>3143</td>\n",
       "      <td>Pumpkin Bars</td>\n",
       "      <td>sp_aUSaElGf_3143_c_398512</td>\n",
       "      <td>u_1oKZ6GUIAIol8xe6oEI7t1Mpxdz</td>\n",
       "      <td>Vantreesta</td>\n",
       "      <td>1</td>\n",
       "      <td>1622718307</td>\n",
       "      <td>100</td>\n",
       "      <td>I use a small ladle to fill muffin cups.</td>\n",
       "      <td>3</td>\n",
       "      <td>11</td>\n",
       "      <td>0</td>\n",
       "      <td>0.0</td>\n",
       "    </tr>\n",
       "    <tr>\n",
       "      <th>3</th>\n",
       "      <td>18</td>\n",
       "      <td>89</td>\n",
       "      <td>1324</td>\n",
       "      <td>Porcupine Meatballs</td>\n",
       "      <td>sp_aUSaElGf_1324_c_431662</td>\n",
       "      <td>u_1oKWCP33NVk4Osfpu4VJuIckEF0</td>\n",
       "      <td>Roberta L.Beauchamp</td>\n",
       "      <td>1</td>\n",
       "      <td>1622648872</td>\n",
       "      <td>212</td>\n",
       "      <td>I made this and followed the instructions as d...</td>\n",
       "      <td>2</td>\n",
       "      <td>15</td>\n",
       "      <td>7</td>\n",
       "      <td>1.0</td>\n",
       "    </tr>\n",
       "    <tr>\n",
       "      <th>4</th>\n",
       "      <td>27</td>\n",
       "      <td>70</td>\n",
       "      <td>32264</td>\n",
       "      <td>Easy Chicken Enchiladas</td>\n",
       "      <td>sp_aUSaElGf_32264_c_423935</td>\n",
       "      <td>u_1oKVhIJMuUlrSCVkbO1jheVTol8</td>\n",
       "      <td>fhquilting</td>\n",
       "      <td>1</td>\n",
       "      <td>1622718460</td>\n",
       "      <td>100</td>\n",
       "      <td>Very Good!  I used corn tortillas.  Used fresh...</td>\n",
       "      <td>3</td>\n",
       "      <td>11</td>\n",
       "      <td>1</td>\n",
       "      <td>0.0</td>\n",
       "    </tr>\n",
       "  </tbody>\n",
       "</table>\n",
       "</div>"
      ],
      "text/plain": [
       "    ID  RecipeNumber  RecipeCode                    RecipeName  \\\n",
       "0   86            45       41384  Black Bean ‘n’ Pumpkin Chili   \n",
       "1  102            53        3143                  Pumpkin Bars   \n",
       "2  156            53        3143                  Pumpkin Bars   \n",
       "3   18            89        1324           Porcupine Meatballs   \n",
       "4   27            70       32264       Easy Chicken Enchiladas   \n",
       "\n",
       "                    CommentID                         UserID  \\\n",
       "0  sp_aUSaElGf_41384_c_341929  u_1oKc4U6bh65cEli8Z8eTIf98Vpr   \n",
       "1   sp_aUSaElGf_3143_c_274545  u_1oKW5seFLQMSwAeOfBVmwJizy5D   \n",
       "2   sp_aUSaElGf_3143_c_398512  u_1oKZ6GUIAIol8xe6oEI7t1Mpxdz   \n",
       "3   sp_aUSaElGf_1324_c_431662  u_1oKWCP33NVk4Osfpu4VJuIckEF0   \n",
       "4  sp_aUSaElGf_32264_c_423935  u_1oKVhIJMuUlrSCVkbO1jheVTol8   \n",
       "\n",
       "              UserName  UserReputation  CreationTimestamp  BestScore  \\\n",
       "0            kalloween               1         1622718043        100   \n",
       "1     chocolate desert               1         1622717685        100   \n",
       "2           Vantreesta               1         1622718307        100   \n",
       "3  Roberta L.Beauchamp               1         1622648872        212   \n",
       "4           fhquilting               1         1622718460        100   \n",
       "\n",
       "                                       Recipe_Review  DayOfWeek  HourOfDay  \\\n",
       "0  This was so good!!  The pumpkin was perfect as...          3         11   \n",
       "1  So good!   Could not stop eating them, so bad....          3         10   \n",
       "2           I use a small ladle to fill muffin cups.          3         11   \n",
       "3  I made this and followed the instructions as d...          2         15   \n",
       "4  Very Good!  I used corn tortillas.  Used fresh...          3         11   \n",
       "\n",
       "   TotalInteractions  ThumbsRatio  \n",
       "0                  0          0.0  \n",
       "1                  1          0.0  \n",
       "2                  0          0.0  \n",
       "3                  7          1.0  \n",
       "4                  1          0.0  "
      ]
     },
     "execution_count": 26,
     "metadata": {},
     "output_type": "execute_result"
    }
   ],
   "source": [
    "test_df.head()"
   ]
  },
  {
   "cell_type": "markdown",
   "id": "b2e084c3",
   "metadata": {
    "papermill": {
     "duration": 0.033837,
     "end_time": "2024-03-13T13:51:21.857342",
     "exception": false,
     "start_time": "2024-03-13T13:51:21.823505",
     "status": "completed"
    },
    "tags": []
   },
   "source": [
    "After the feature engineering the new features are:"
   ]
  },
  {
   "cell_type": "code",
   "execution_count": 27,
   "id": "4981c6aa",
   "metadata": {
    "execution": {
     "iopub.execute_input": "2024-03-13T13:51:21.927714Z",
     "iopub.status.busy": "2024-03-13T13:51:21.927281Z",
     "iopub.status.idle": "2024-03-13T13:51:21.933028Z",
     "shell.execute_reply": "2024-03-13T13:51:21.931923Z"
    },
    "papermill": {
     "duration": 0.04387,
     "end_time": "2024-03-13T13:51:21.935765",
     "exception": false,
     "start_time": "2024-03-13T13:51:21.891895",
     "status": "completed"
    },
    "tags": []
   },
   "outputs": [],
   "source": [
    "numerical_features = ['UserReputation','TotalInteractions','BestScore','ThumbsRatio', 'HourOfDay']\n",
    "categorical_features = ['CommentID', 'UserID', 'UserName','RecipeNumber', 'RecipeCode', 'DayOfWeek']\n",
    "text_features = ['RecipeName', 'Recipe_Review']\n",
    "#target_feature = ['Rating']"
   ]
  },
  {
   "cell_type": "markdown",
   "id": "5ea854c5",
   "metadata": {
    "papermill": {
     "duration": 0.035151,
     "end_time": "2024-03-13T13:51:22.004078",
     "exception": false,
     "start_time": "2024-03-13T13:51:21.968927",
     "status": "completed"
    },
    "tags": []
   },
   "source": [
    "### Handling the object type data"
   ]
  },
  {
   "cell_type": "code",
   "execution_count": 28,
   "id": "15551454",
   "metadata": {
    "execution": {
     "iopub.execute_input": "2024-03-13T13:51:22.074595Z",
     "iopub.status.busy": "2024-03-13T13:51:22.074137Z",
     "iopub.status.idle": "2024-03-13T13:51:22.096885Z",
     "shell.execute_reply": "2024-03-13T13:51:22.095090Z"
    },
    "papermill": {
     "duration": 0.060649,
     "end_time": "2024-03-13T13:51:22.099549",
     "exception": false,
     "start_time": "2024-03-13T13:51:22.038900",
     "status": "completed"
    },
    "tags": []
   },
   "outputs": [
    {
     "name": "stdout",
     "output_type": "stream",
     "text": [
      "Number of unique entries for CommentID: 13636\n",
      "Number of unique entries for UserID: 10783\n",
      "Number of unique entries for UserName: 10620\n",
      "Number of unique entries for RecipeNumber: 100\n",
      "Number of unique entries for RecipeCode: 100\n",
      "Number of unique entries for DayOfWeek: 7\n"
     ]
    }
   ],
   "source": [
    "for feature in categorical_features:\n",
    "    unique_classes_count = train_df[feature].nunique()\n",
    "    print(f\"Number of unique entries for {feature}: {unique_classes_count}\")"
   ]
  },
  {
   "cell_type": "markdown",
   "id": "0027cf1c",
   "metadata": {
    "papermill": {
     "duration": 0.033169,
     "end_time": "2024-03-13T13:51:22.166886",
     "exception": false,
     "start_time": "2024-03-13T13:51:22.133717",
     "status": "completed"
    },
    "tags": []
   },
   "source": [
    "In the analysis of a dataset with 13,636 entries, only the 'RecipeNumber' and 'RecipeCode' categorical features, boasting 100 unique entries, stood out as significant. 'CommentID' encompassed the entire dataset with 13,636 unique entries, while 'UserID' and 'UserName' exhibited 10,783 and 10,620 unique entries, respectively. This highlights 'RecipeNumber' and 'RecipeCode' as the primary categorical features influencing the dataset's characteristics."
   ]
  },
  {
   "cell_type": "markdown",
   "id": "e2f12075",
   "metadata": {
    "papermill": {
     "duration": 0.03324,
     "end_time": "2024-03-13T13:51:22.233543",
     "exception": false,
     "start_time": "2024-03-13T13:51:22.200303",
     "status": "completed"
    },
    "tags": []
   },
   "source": [
    "Upon thorough examination of the dataset, it is evident that the columns **'RecipeName', 'RecipeCode', and 'RecipeNumber' each represent a single feature** with 100 unique values. Hence, I will focus solely on the 'RecipeCode' feature."
   ]
  },
  {
   "cell_type": "markdown",
   "id": "23935743",
   "metadata": {
    "papermill": {
     "duration": 0.032978,
     "end_time": "2024-03-13T13:51:22.299910",
     "exception": false,
     "start_time": "2024-03-13T13:51:22.266932",
     "status": "completed"
    },
    "tags": []
   },
   "source": [
    "**Encoding Categorical Feature using One Hot Encoder**"
   ]
  },
  {
   "cell_type": "code",
   "execution_count": 29,
   "id": "db264a97",
   "metadata": {
    "execution": {
     "iopub.execute_input": "2024-03-13T13:51:22.370661Z",
     "iopub.status.busy": "2024-03-13T13:51:22.369319Z",
     "iopub.status.idle": "2024-03-13T13:51:22.641741Z",
     "shell.execute_reply": "2024-03-13T13:51:22.640385Z"
    },
    "papermill": {
     "duration": 0.310561,
     "end_time": "2024-03-13T13:51:22.644935",
     "exception": false,
     "start_time": "2024-03-13T13:51:22.334374",
     "status": "completed"
    },
    "tags": []
   },
   "outputs": [
    {
     "name": "stderr",
     "output_type": "stream",
     "text": [
      "/opt/conda/lib/python3.10/site-packages/sklearn/preprocessing/_encoders.py:868: FutureWarning: `sparse` was renamed to `sparse_output` in version 1.2 and will be removed in 1.4. `sparse_output` is ignored unless you leave `sparse` to its default value.\n",
      "  warnings.warn(\n"
     ]
    }
   ],
   "source": [
    "from sklearn.preprocessing import OneHotEncoder\n",
    "# Apply One-Hot Encoding for the 'RecipeCode' feature\n",
    "encoder = OneHotEncoder(sparse=False)\n",
    "encoded_recipe_code = encoder.fit_transform(train_df[['RecipeCode']])\n",
    "encoded_recipe_code_df = pd.DataFrame(encoded_recipe_code, columns=[f'RecipeCode_{code}' for code in encoder.categories_[0]])\n",
    "# Drop original 'RecipeCode' column\n",
    "train_df.drop('RecipeCode', axis=1, inplace=True)\n",
    "# Concatenate the encoded recipe code dataframe with the original dataframe\n",
    "train_df = pd.concat([train_df, encoded_recipe_code_df], axis=1)\n",
    "\n",
    "# Apply One-Hot Encoding for the 'RecipeCode' feature in test data\n",
    "encoded_recipe_code = encoder.transform(test_df[['RecipeCode']])  # Use 'test_df' instead of 'train_df'\n",
    "encoded_recipe_code_df = pd.DataFrame(encoded_recipe_code, columns=[f'RecipeCode_{code}' for code in encoder.categories_[0]])\n",
    "test_df.drop('RecipeCode', axis=1, inplace=True)\n",
    "test_df = pd.concat([test_df, encoded_recipe_code_df], axis=1)  # Concatenate 'test_df' with 'encoded_recipe_code_df'\n",
    "\n"
   ]
  },
  {
   "cell_type": "code",
   "execution_count": 30,
   "id": "64dfd3e7",
   "metadata": {
    "execution": {
     "iopub.execute_input": "2024-03-13T13:51:22.717671Z",
     "iopub.status.busy": "2024-03-13T13:51:22.717233Z",
     "iopub.status.idle": "2024-03-13T13:51:22.750011Z",
     "shell.execute_reply": "2024-03-13T13:51:22.748887Z"
    },
    "papermill": {
     "duration": 0.072523,
     "end_time": "2024-03-13T13:51:22.752546",
     "exception": false,
     "start_time": "2024-03-13T13:51:22.680023",
     "status": "completed"
    },
    "tags": []
   },
   "outputs": [
    {
     "data": {
      "text/html": [
       "<div>\n",
       "<style scoped>\n",
       "    .dataframe tbody tr th:only-of-type {\n",
       "        vertical-align: middle;\n",
       "    }\n",
       "\n",
       "    .dataframe tbody tr th {\n",
       "        vertical-align: top;\n",
       "    }\n",
       "\n",
       "    .dataframe thead th {\n",
       "        text-align: right;\n",
       "    }\n",
       "</style>\n",
       "<table border=\"1\" class=\"dataframe\">\n",
       "  <thead>\n",
       "    <tr style=\"text-align: right;\">\n",
       "      <th></th>\n",
       "      <th>ID</th>\n",
       "      <th>RecipeNumber</th>\n",
       "      <th>RecipeName</th>\n",
       "      <th>CommentID</th>\n",
       "      <th>UserID</th>\n",
       "      <th>UserName</th>\n",
       "      <th>UserReputation</th>\n",
       "      <th>CreationTimestamp</th>\n",
       "      <th>BestScore</th>\n",
       "      <th>Recipe_Review</th>\n",
       "      <th>...</th>\n",
       "      <th>RecipeCode_42386</th>\n",
       "      <th>RecipeCode_42873</th>\n",
       "      <th>RecipeCode_43675</th>\n",
       "      <th>RecipeCode_45495</th>\n",
       "      <th>RecipeCode_46655</th>\n",
       "      <th>RecipeCode_74724</th>\n",
       "      <th>RecipeCode_82745</th>\n",
       "      <th>RecipeCode_100276</th>\n",
       "      <th>RecipeCode_141947</th>\n",
       "      <th>RecipeCode_191775</th>\n",
       "    </tr>\n",
       "  </thead>\n",
       "  <tbody>\n",
       "    <tr>\n",
       "      <th>0</th>\n",
       "      <td>86</td>\n",
       "      <td>45</td>\n",
       "      <td>Black Bean ‘n’ Pumpkin Chili</td>\n",
       "      <td>sp_aUSaElGf_41384_c_341929</td>\n",
       "      <td>u_1oKc4U6bh65cEli8Z8eTIf98Vpr</td>\n",
       "      <td>kalloween</td>\n",
       "      <td>1</td>\n",
       "      <td>1622718043</td>\n",
       "      <td>100</td>\n",
       "      <td>This was so good!!  The pumpkin was perfect as...</td>\n",
       "      <td>...</td>\n",
       "      <td>0.0</td>\n",
       "      <td>0.0</td>\n",
       "      <td>0.0</td>\n",
       "      <td>0.0</td>\n",
       "      <td>0.0</td>\n",
       "      <td>0.0</td>\n",
       "      <td>0.0</td>\n",
       "      <td>0.0</td>\n",
       "      <td>0.0</td>\n",
       "      <td>0.0</td>\n",
       "    </tr>\n",
       "    <tr>\n",
       "      <th>1</th>\n",
       "      <td>102</td>\n",
       "      <td>53</td>\n",
       "      <td>Pumpkin Bars</td>\n",
       "      <td>sp_aUSaElGf_3143_c_274545</td>\n",
       "      <td>u_1oKW5seFLQMSwAeOfBVmwJizy5D</td>\n",
       "      <td>chocolate desert</td>\n",
       "      <td>1</td>\n",
       "      <td>1622717685</td>\n",
       "      <td>100</td>\n",
       "      <td>So good!   Could not stop eating them, so bad....</td>\n",
       "      <td>...</td>\n",
       "      <td>0.0</td>\n",
       "      <td>0.0</td>\n",
       "      <td>0.0</td>\n",
       "      <td>0.0</td>\n",
       "      <td>0.0</td>\n",
       "      <td>0.0</td>\n",
       "      <td>0.0</td>\n",
       "      <td>0.0</td>\n",
       "      <td>0.0</td>\n",
       "      <td>0.0</td>\n",
       "    </tr>\n",
       "    <tr>\n",
       "      <th>2</th>\n",
       "      <td>156</td>\n",
       "      <td>53</td>\n",
       "      <td>Pumpkin Bars</td>\n",
       "      <td>sp_aUSaElGf_3143_c_398512</td>\n",
       "      <td>u_1oKZ6GUIAIol8xe6oEI7t1Mpxdz</td>\n",
       "      <td>Vantreesta</td>\n",
       "      <td>1</td>\n",
       "      <td>1622718307</td>\n",
       "      <td>100</td>\n",
       "      <td>I use a small ladle to fill muffin cups.</td>\n",
       "      <td>...</td>\n",
       "      <td>0.0</td>\n",
       "      <td>0.0</td>\n",
       "      <td>0.0</td>\n",
       "      <td>0.0</td>\n",
       "      <td>0.0</td>\n",
       "      <td>0.0</td>\n",
       "      <td>0.0</td>\n",
       "      <td>0.0</td>\n",
       "      <td>0.0</td>\n",
       "      <td>0.0</td>\n",
       "    </tr>\n",
       "    <tr>\n",
       "      <th>3</th>\n",
       "      <td>18</td>\n",
       "      <td>89</td>\n",
       "      <td>Porcupine Meatballs</td>\n",
       "      <td>sp_aUSaElGf_1324_c_431662</td>\n",
       "      <td>u_1oKWCP33NVk4Osfpu4VJuIckEF0</td>\n",
       "      <td>Roberta L.Beauchamp</td>\n",
       "      <td>1</td>\n",
       "      <td>1622648872</td>\n",
       "      <td>212</td>\n",
       "      <td>I made this and followed the instructions as d...</td>\n",
       "      <td>...</td>\n",
       "      <td>0.0</td>\n",
       "      <td>0.0</td>\n",
       "      <td>0.0</td>\n",
       "      <td>0.0</td>\n",
       "      <td>0.0</td>\n",
       "      <td>0.0</td>\n",
       "      <td>0.0</td>\n",
       "      <td>0.0</td>\n",
       "      <td>0.0</td>\n",
       "      <td>0.0</td>\n",
       "    </tr>\n",
       "    <tr>\n",
       "      <th>4</th>\n",
       "      <td>27</td>\n",
       "      <td>70</td>\n",
       "      <td>Easy Chicken Enchiladas</td>\n",
       "      <td>sp_aUSaElGf_32264_c_423935</td>\n",
       "      <td>u_1oKVhIJMuUlrSCVkbO1jheVTol8</td>\n",
       "      <td>fhquilting</td>\n",
       "      <td>1</td>\n",
       "      <td>1622718460</td>\n",
       "      <td>100</td>\n",
       "      <td>Very Good!  I used corn tortillas.  Used fresh...</td>\n",
       "      <td>...</td>\n",
       "      <td>0.0</td>\n",
       "      <td>0.0</td>\n",
       "      <td>0.0</td>\n",
       "      <td>0.0</td>\n",
       "      <td>0.0</td>\n",
       "      <td>0.0</td>\n",
       "      <td>0.0</td>\n",
       "      <td>0.0</td>\n",
       "      <td>0.0</td>\n",
       "      <td>0.0</td>\n",
       "    </tr>\n",
       "  </tbody>\n",
       "</table>\n",
       "<p>5 rows × 114 columns</p>\n",
       "</div>"
      ],
      "text/plain": [
       "    ID  RecipeNumber                    RecipeName  \\\n",
       "0   86            45  Black Bean ‘n’ Pumpkin Chili   \n",
       "1  102            53                  Pumpkin Bars   \n",
       "2  156            53                  Pumpkin Bars   \n",
       "3   18            89           Porcupine Meatballs   \n",
       "4   27            70       Easy Chicken Enchiladas   \n",
       "\n",
       "                    CommentID                         UserID  \\\n",
       "0  sp_aUSaElGf_41384_c_341929  u_1oKc4U6bh65cEli8Z8eTIf98Vpr   \n",
       "1   sp_aUSaElGf_3143_c_274545  u_1oKW5seFLQMSwAeOfBVmwJizy5D   \n",
       "2   sp_aUSaElGf_3143_c_398512  u_1oKZ6GUIAIol8xe6oEI7t1Mpxdz   \n",
       "3   sp_aUSaElGf_1324_c_431662  u_1oKWCP33NVk4Osfpu4VJuIckEF0   \n",
       "4  sp_aUSaElGf_32264_c_423935  u_1oKVhIJMuUlrSCVkbO1jheVTol8   \n",
       "\n",
       "              UserName  UserReputation  CreationTimestamp  BestScore  \\\n",
       "0            kalloween               1         1622718043        100   \n",
       "1     chocolate desert               1         1622717685        100   \n",
       "2           Vantreesta               1         1622718307        100   \n",
       "3  Roberta L.Beauchamp               1         1622648872        212   \n",
       "4           fhquilting               1         1622718460        100   \n",
       "\n",
       "                                       Recipe_Review  ...  RecipeCode_42386  \\\n",
       "0  This was so good!!  The pumpkin was perfect as...  ...               0.0   \n",
       "1  So good!   Could not stop eating them, so bad....  ...               0.0   \n",
       "2           I use a small ladle to fill muffin cups.  ...               0.0   \n",
       "3  I made this and followed the instructions as d...  ...               0.0   \n",
       "4  Very Good!  I used corn tortillas.  Used fresh...  ...               0.0   \n",
       "\n",
       "   RecipeCode_42873  RecipeCode_43675  RecipeCode_45495  RecipeCode_46655  \\\n",
       "0               0.0               0.0               0.0               0.0   \n",
       "1               0.0               0.0               0.0               0.0   \n",
       "2               0.0               0.0               0.0               0.0   \n",
       "3               0.0               0.0               0.0               0.0   \n",
       "4               0.0               0.0               0.0               0.0   \n",
       "\n",
       "   RecipeCode_74724  RecipeCode_82745  RecipeCode_100276  RecipeCode_141947  \\\n",
       "0               0.0               0.0                0.0                0.0   \n",
       "1               0.0               0.0                0.0                0.0   \n",
       "2               0.0               0.0                0.0                0.0   \n",
       "3               0.0               0.0                0.0                0.0   \n",
       "4               0.0               0.0                0.0                0.0   \n",
       "\n",
       "   RecipeCode_191775  \n",
       "0                0.0  \n",
       "1                0.0  \n",
       "2                0.0  \n",
       "3                0.0  \n",
       "4                0.0  \n",
       "\n",
       "[5 rows x 114 columns]"
      ]
     },
     "execution_count": 30,
     "metadata": {},
     "output_type": "execute_result"
    }
   ],
   "source": [
    "test_df.head()"
   ]
  },
  {
   "cell_type": "code",
   "execution_count": 31,
   "id": "f1e1f293",
   "metadata": {
    "execution": {
     "iopub.execute_input": "2024-03-13T13:51:22.824092Z",
     "iopub.status.busy": "2024-03-13T13:51:22.823668Z",
     "iopub.status.idle": "2024-03-13T13:51:22.871845Z",
     "shell.execute_reply": "2024-03-13T13:51:22.870579Z"
    },
    "papermill": {
     "duration": 0.087363,
     "end_time": "2024-03-13T13:51:22.874534",
     "exception": false,
     "start_time": "2024-03-13T13:51:22.787171",
     "status": "completed"
    },
    "tags": []
   },
   "outputs": [
    {
     "name": "stderr",
     "output_type": "stream",
     "text": [
      "/opt/conda/lib/python3.10/site-packages/sklearn/preprocessing/_encoders.py:868: FutureWarning: `sparse` was renamed to `sparse_output` in version 1.2 and will be removed in 1.4. `sparse_output` is ignored unless you leave `sparse` to its default value.\n",
      "  warnings.warn(\n"
     ]
    }
   ],
   "source": [
    "from sklearn.preprocessing import OneHotEncoder\n",
    "\n",
    "# Apply One-Hot Encoding for the 'DayOfWeek' feature\n",
    "encoder_day_of_week = OneHotEncoder(sparse=False)\n",
    "encoded_day_of_week = encoder_day_of_week.fit_transform(train_df[['DayOfWeek']])\n",
    "encoded_day_of_week_df = pd.DataFrame(encoded_day_of_week, columns=[f'DayOfWeek_{day}' for day in encoder_day_of_week.categories_[0]])\n",
    "\n",
    "# Drop original 'DayOfWeek' column\n",
    "train_df.drop('DayOfWeek', axis=1, inplace=True)\n",
    "\n",
    "# Concatenate the encoded 'DayOfWeek' dataframe with the original dataframe\n",
    "train_df = pd.concat([train_df, encoded_day_of_week_df], axis=1)\n",
    "\n",
    "# Apply One-Hot Encoding for the 'DayOfWeek' feature in test data\n",
    "encoded_day_of_week_test = encoder_day_of_week.transform(test_df[['DayOfWeek']])\n",
    "encoded_day_of_week_df_test = pd.DataFrame(encoded_day_of_week_test, columns=[f'DayOfWeek_{day}' for day in encoder_day_of_week.categories_[0]])\n",
    "\n",
    "test_df.drop('DayOfWeek', axis=1, inplace=True)\n",
    "test_df = pd.concat([test_df, encoded_day_of_week_df_test], axis=1)"
   ]
  },
  {
   "cell_type": "code",
   "execution_count": null,
   "id": "24b59377",
   "metadata": {
    "papermill": {
     "duration": 0.034995,
     "end_time": "2024-03-13T13:51:22.944256",
     "exception": false,
     "start_time": "2024-03-13T13:51:22.909261",
     "status": "completed"
    },
    "tags": []
   },
   "outputs": [],
   "source": []
  },
  {
   "cell_type": "code",
   "execution_count": 32,
   "id": "96df0a8d",
   "metadata": {
    "execution": {
     "iopub.execute_input": "2024-03-13T13:51:23.017411Z",
     "iopub.status.busy": "2024-03-13T13:51:23.016832Z",
     "iopub.status.idle": "2024-03-13T13:51:23.050448Z",
     "shell.execute_reply": "2024-03-13T13:51:23.049265Z"
    },
    "papermill": {
     "duration": 0.073776,
     "end_time": "2024-03-13T13:51:23.053150",
     "exception": false,
     "start_time": "2024-03-13T13:51:22.979374",
     "status": "completed"
    },
    "tags": []
   },
   "outputs": [
    {
     "data": {
      "text/html": [
       "<div>\n",
       "<style scoped>\n",
       "    .dataframe tbody tr th:only-of-type {\n",
       "        vertical-align: middle;\n",
       "    }\n",
       "\n",
       "    .dataframe tbody tr th {\n",
       "        vertical-align: top;\n",
       "    }\n",
       "\n",
       "    .dataframe thead th {\n",
       "        text-align: right;\n",
       "    }\n",
       "</style>\n",
       "<table border=\"1\" class=\"dataframe\">\n",
       "  <thead>\n",
       "    <tr style=\"text-align: right;\">\n",
       "      <th></th>\n",
       "      <th>ID</th>\n",
       "      <th>RecipeNumber</th>\n",
       "      <th>RecipeName</th>\n",
       "      <th>CommentID</th>\n",
       "      <th>UserID</th>\n",
       "      <th>UserName</th>\n",
       "      <th>UserReputation</th>\n",
       "      <th>CreationTimestamp</th>\n",
       "      <th>BestScore</th>\n",
       "      <th>Recipe_Review</th>\n",
       "      <th>...</th>\n",
       "      <th>RecipeCode_100276</th>\n",
       "      <th>RecipeCode_141947</th>\n",
       "      <th>RecipeCode_191775</th>\n",
       "      <th>DayOfWeek_0</th>\n",
       "      <th>DayOfWeek_1</th>\n",
       "      <th>DayOfWeek_2</th>\n",
       "      <th>DayOfWeek_3</th>\n",
       "      <th>DayOfWeek_4</th>\n",
       "      <th>DayOfWeek_5</th>\n",
       "      <th>DayOfWeek_6</th>\n",
       "    </tr>\n",
       "  </thead>\n",
       "  <tbody>\n",
       "    <tr>\n",
       "      <th>0</th>\n",
       "      <td>86</td>\n",
       "      <td>45</td>\n",
       "      <td>Black Bean ‘n’ Pumpkin Chili</td>\n",
       "      <td>sp_aUSaElGf_41384_c_341929</td>\n",
       "      <td>u_1oKc4U6bh65cEli8Z8eTIf98Vpr</td>\n",
       "      <td>kalloween</td>\n",
       "      <td>1</td>\n",
       "      <td>1622718043</td>\n",
       "      <td>100</td>\n",
       "      <td>This was so good!!  The pumpkin was perfect as...</td>\n",
       "      <td>...</td>\n",
       "      <td>0.0</td>\n",
       "      <td>0.0</td>\n",
       "      <td>0.0</td>\n",
       "      <td>0.0</td>\n",
       "      <td>0.0</td>\n",
       "      <td>0.0</td>\n",
       "      <td>1.0</td>\n",
       "      <td>0.0</td>\n",
       "      <td>0.0</td>\n",
       "      <td>0.0</td>\n",
       "    </tr>\n",
       "    <tr>\n",
       "      <th>1</th>\n",
       "      <td>102</td>\n",
       "      <td>53</td>\n",
       "      <td>Pumpkin Bars</td>\n",
       "      <td>sp_aUSaElGf_3143_c_274545</td>\n",
       "      <td>u_1oKW5seFLQMSwAeOfBVmwJizy5D</td>\n",
       "      <td>chocolate desert</td>\n",
       "      <td>1</td>\n",
       "      <td>1622717685</td>\n",
       "      <td>100</td>\n",
       "      <td>So good!   Could not stop eating them, so bad....</td>\n",
       "      <td>...</td>\n",
       "      <td>0.0</td>\n",
       "      <td>0.0</td>\n",
       "      <td>0.0</td>\n",
       "      <td>0.0</td>\n",
       "      <td>0.0</td>\n",
       "      <td>0.0</td>\n",
       "      <td>1.0</td>\n",
       "      <td>0.0</td>\n",
       "      <td>0.0</td>\n",
       "      <td>0.0</td>\n",
       "    </tr>\n",
       "    <tr>\n",
       "      <th>2</th>\n",
       "      <td>156</td>\n",
       "      <td>53</td>\n",
       "      <td>Pumpkin Bars</td>\n",
       "      <td>sp_aUSaElGf_3143_c_398512</td>\n",
       "      <td>u_1oKZ6GUIAIol8xe6oEI7t1Mpxdz</td>\n",
       "      <td>Vantreesta</td>\n",
       "      <td>1</td>\n",
       "      <td>1622718307</td>\n",
       "      <td>100</td>\n",
       "      <td>I use a small ladle to fill muffin cups.</td>\n",
       "      <td>...</td>\n",
       "      <td>0.0</td>\n",
       "      <td>0.0</td>\n",
       "      <td>0.0</td>\n",
       "      <td>0.0</td>\n",
       "      <td>0.0</td>\n",
       "      <td>0.0</td>\n",
       "      <td>1.0</td>\n",
       "      <td>0.0</td>\n",
       "      <td>0.0</td>\n",
       "      <td>0.0</td>\n",
       "    </tr>\n",
       "    <tr>\n",
       "      <th>3</th>\n",
       "      <td>18</td>\n",
       "      <td>89</td>\n",
       "      <td>Porcupine Meatballs</td>\n",
       "      <td>sp_aUSaElGf_1324_c_431662</td>\n",
       "      <td>u_1oKWCP33NVk4Osfpu4VJuIckEF0</td>\n",
       "      <td>Roberta L.Beauchamp</td>\n",
       "      <td>1</td>\n",
       "      <td>1622648872</td>\n",
       "      <td>212</td>\n",
       "      <td>I made this and followed the instructions as d...</td>\n",
       "      <td>...</td>\n",
       "      <td>0.0</td>\n",
       "      <td>0.0</td>\n",
       "      <td>0.0</td>\n",
       "      <td>0.0</td>\n",
       "      <td>0.0</td>\n",
       "      <td>1.0</td>\n",
       "      <td>0.0</td>\n",
       "      <td>0.0</td>\n",
       "      <td>0.0</td>\n",
       "      <td>0.0</td>\n",
       "    </tr>\n",
       "    <tr>\n",
       "      <th>4</th>\n",
       "      <td>27</td>\n",
       "      <td>70</td>\n",
       "      <td>Easy Chicken Enchiladas</td>\n",
       "      <td>sp_aUSaElGf_32264_c_423935</td>\n",
       "      <td>u_1oKVhIJMuUlrSCVkbO1jheVTol8</td>\n",
       "      <td>fhquilting</td>\n",
       "      <td>1</td>\n",
       "      <td>1622718460</td>\n",
       "      <td>100</td>\n",
       "      <td>Very Good!  I used corn tortillas.  Used fresh...</td>\n",
       "      <td>...</td>\n",
       "      <td>0.0</td>\n",
       "      <td>0.0</td>\n",
       "      <td>0.0</td>\n",
       "      <td>0.0</td>\n",
       "      <td>0.0</td>\n",
       "      <td>0.0</td>\n",
       "      <td>1.0</td>\n",
       "      <td>0.0</td>\n",
       "      <td>0.0</td>\n",
       "      <td>0.0</td>\n",
       "    </tr>\n",
       "  </tbody>\n",
       "</table>\n",
       "<p>5 rows × 120 columns</p>\n",
       "</div>"
      ],
      "text/plain": [
       "    ID  RecipeNumber                    RecipeName  \\\n",
       "0   86            45  Black Bean ‘n’ Pumpkin Chili   \n",
       "1  102            53                  Pumpkin Bars   \n",
       "2  156            53                  Pumpkin Bars   \n",
       "3   18            89           Porcupine Meatballs   \n",
       "4   27            70       Easy Chicken Enchiladas   \n",
       "\n",
       "                    CommentID                         UserID  \\\n",
       "0  sp_aUSaElGf_41384_c_341929  u_1oKc4U6bh65cEli8Z8eTIf98Vpr   \n",
       "1   sp_aUSaElGf_3143_c_274545  u_1oKW5seFLQMSwAeOfBVmwJizy5D   \n",
       "2   sp_aUSaElGf_3143_c_398512  u_1oKZ6GUIAIol8xe6oEI7t1Mpxdz   \n",
       "3   sp_aUSaElGf_1324_c_431662  u_1oKWCP33NVk4Osfpu4VJuIckEF0   \n",
       "4  sp_aUSaElGf_32264_c_423935  u_1oKVhIJMuUlrSCVkbO1jheVTol8   \n",
       "\n",
       "              UserName  UserReputation  CreationTimestamp  BestScore  \\\n",
       "0            kalloween               1         1622718043        100   \n",
       "1     chocolate desert               1         1622717685        100   \n",
       "2           Vantreesta               1         1622718307        100   \n",
       "3  Roberta L.Beauchamp               1         1622648872        212   \n",
       "4           fhquilting               1         1622718460        100   \n",
       "\n",
       "                                       Recipe_Review  ...  RecipeCode_100276  \\\n",
       "0  This was so good!!  The pumpkin was perfect as...  ...                0.0   \n",
       "1  So good!   Could not stop eating them, so bad....  ...                0.0   \n",
       "2           I use a small ladle to fill muffin cups.  ...                0.0   \n",
       "3  I made this and followed the instructions as d...  ...                0.0   \n",
       "4  Very Good!  I used corn tortillas.  Used fresh...  ...                0.0   \n",
       "\n",
       "   RecipeCode_141947  RecipeCode_191775  DayOfWeek_0  DayOfWeek_1  \\\n",
       "0                0.0                0.0          0.0          0.0   \n",
       "1                0.0                0.0          0.0          0.0   \n",
       "2                0.0                0.0          0.0          0.0   \n",
       "3                0.0                0.0          0.0          0.0   \n",
       "4                0.0                0.0          0.0          0.0   \n",
       "\n",
       "   DayOfWeek_2  DayOfWeek_3  DayOfWeek_4  DayOfWeek_5  DayOfWeek_6  \n",
       "0          0.0          1.0          0.0          0.0          0.0  \n",
       "1          0.0          1.0          0.0          0.0          0.0  \n",
       "2          0.0          1.0          0.0          0.0          0.0  \n",
       "3          1.0          0.0          0.0          0.0          0.0  \n",
       "4          0.0          1.0          0.0          0.0          0.0  \n",
       "\n",
       "[5 rows x 120 columns]"
      ]
     },
     "execution_count": 32,
     "metadata": {},
     "output_type": "execute_result"
    }
   ],
   "source": [
    "test_df.head()"
   ]
  },
  {
   "cell_type": "code",
   "execution_count": 33,
   "id": "5544aee9",
   "metadata": {
    "execution": {
     "iopub.execute_input": "2024-03-13T13:51:23.126506Z",
     "iopub.status.busy": "2024-03-13T13:51:23.126061Z",
     "iopub.status.idle": "2024-03-13T13:51:23.146938Z",
     "shell.execute_reply": "2024-03-13T13:51:23.145749Z"
    },
    "papermill": {
     "duration": 0.061124,
     "end_time": "2024-03-13T13:51:23.150076",
     "exception": false,
     "start_time": "2024-03-13T13:51:23.088952",
     "status": "completed"
    },
    "tags": []
   },
   "outputs": [],
   "source": [
    "# Drop specified features from train_data\n",
    "train_df.drop(['UserName', 'CommentID', 'UserID', 'RecipeName', 'RecipeNumber'], axis=1, inplace=True)\n",
    "test_df.drop(['UserName', 'CommentID', 'UserID', 'RecipeName', 'RecipeNumber'], axis=1, inplace=True)"
   ]
  },
  {
   "cell_type": "code",
   "execution_count": null,
   "id": "c82fcfe0",
   "metadata": {
    "papermill": {
     "duration": 0.034692,
     "end_time": "2024-03-13T13:51:23.219781",
     "exception": false,
     "start_time": "2024-03-13T13:51:23.185089",
     "status": "completed"
    },
    "tags": []
   },
   "outputs": [],
   "source": []
  },
  {
   "cell_type": "code",
   "execution_count": 34,
   "id": "5594ebbc",
   "metadata": {
    "execution": {
     "iopub.execute_input": "2024-03-13T13:51:23.291631Z",
     "iopub.status.busy": "2024-03-13T13:51:23.291182Z",
     "iopub.status.idle": "2024-03-13T13:51:23.323078Z",
     "shell.execute_reply": "2024-03-13T13:51:23.322167Z"
    },
    "papermill": {
     "duration": 0.070489,
     "end_time": "2024-03-13T13:51:23.325356",
     "exception": false,
     "start_time": "2024-03-13T13:51:23.254867",
     "status": "completed"
    },
    "tags": []
   },
   "outputs": [
    {
     "data": {
      "text/html": [
       "<div>\n",
       "<style scoped>\n",
       "    .dataframe tbody tr th:only-of-type {\n",
       "        vertical-align: middle;\n",
       "    }\n",
       "\n",
       "    .dataframe tbody tr th {\n",
       "        vertical-align: top;\n",
       "    }\n",
       "\n",
       "    .dataframe thead th {\n",
       "        text-align: right;\n",
       "    }\n",
       "</style>\n",
       "<table border=\"1\" class=\"dataframe\">\n",
       "  <thead>\n",
       "    <tr style=\"text-align: right;\">\n",
       "      <th></th>\n",
       "      <th>ID</th>\n",
       "      <th>UserReputation</th>\n",
       "      <th>CreationTimestamp</th>\n",
       "      <th>BestScore</th>\n",
       "      <th>Recipe_Review</th>\n",
       "      <th>HourOfDay</th>\n",
       "      <th>TotalInteractions</th>\n",
       "      <th>ThumbsRatio</th>\n",
       "      <th>RecipeCode_386</th>\n",
       "      <th>RecipeCode_414</th>\n",
       "      <th>...</th>\n",
       "      <th>RecipeCode_100276</th>\n",
       "      <th>RecipeCode_141947</th>\n",
       "      <th>RecipeCode_191775</th>\n",
       "      <th>DayOfWeek_0</th>\n",
       "      <th>DayOfWeek_1</th>\n",
       "      <th>DayOfWeek_2</th>\n",
       "      <th>DayOfWeek_3</th>\n",
       "      <th>DayOfWeek_4</th>\n",
       "      <th>DayOfWeek_5</th>\n",
       "      <th>DayOfWeek_6</th>\n",
       "    </tr>\n",
       "  </thead>\n",
       "  <tbody>\n",
       "    <tr>\n",
       "      <th>0</th>\n",
       "      <td>86</td>\n",
       "      <td>1</td>\n",
       "      <td>1622718043</td>\n",
       "      <td>100</td>\n",
       "      <td>This was so good!!  The pumpkin was perfect as...</td>\n",
       "      <td>11</td>\n",
       "      <td>0</td>\n",
       "      <td>0.0</td>\n",
       "      <td>0.0</td>\n",
       "      <td>0.0</td>\n",
       "      <td>...</td>\n",
       "      <td>0.0</td>\n",
       "      <td>0.0</td>\n",
       "      <td>0.0</td>\n",
       "      <td>0.0</td>\n",
       "      <td>0.0</td>\n",
       "      <td>0.0</td>\n",
       "      <td>1.0</td>\n",
       "      <td>0.0</td>\n",
       "      <td>0.0</td>\n",
       "      <td>0.0</td>\n",
       "    </tr>\n",
       "    <tr>\n",
       "      <th>1</th>\n",
       "      <td>102</td>\n",
       "      <td>1</td>\n",
       "      <td>1622717685</td>\n",
       "      <td>100</td>\n",
       "      <td>So good!   Could not stop eating them, so bad....</td>\n",
       "      <td>10</td>\n",
       "      <td>1</td>\n",
       "      <td>0.0</td>\n",
       "      <td>0.0</td>\n",
       "      <td>0.0</td>\n",
       "      <td>...</td>\n",
       "      <td>0.0</td>\n",
       "      <td>0.0</td>\n",
       "      <td>0.0</td>\n",
       "      <td>0.0</td>\n",
       "      <td>0.0</td>\n",
       "      <td>0.0</td>\n",
       "      <td>1.0</td>\n",
       "      <td>0.0</td>\n",
       "      <td>0.0</td>\n",
       "      <td>0.0</td>\n",
       "    </tr>\n",
       "    <tr>\n",
       "      <th>2</th>\n",
       "      <td>156</td>\n",
       "      <td>1</td>\n",
       "      <td>1622718307</td>\n",
       "      <td>100</td>\n",
       "      <td>I use a small ladle to fill muffin cups.</td>\n",
       "      <td>11</td>\n",
       "      <td>0</td>\n",
       "      <td>0.0</td>\n",
       "      <td>0.0</td>\n",
       "      <td>0.0</td>\n",
       "      <td>...</td>\n",
       "      <td>0.0</td>\n",
       "      <td>0.0</td>\n",
       "      <td>0.0</td>\n",
       "      <td>0.0</td>\n",
       "      <td>0.0</td>\n",
       "      <td>0.0</td>\n",
       "      <td>1.0</td>\n",
       "      <td>0.0</td>\n",
       "      <td>0.0</td>\n",
       "      <td>0.0</td>\n",
       "    </tr>\n",
       "    <tr>\n",
       "      <th>3</th>\n",
       "      <td>18</td>\n",
       "      <td>1</td>\n",
       "      <td>1622648872</td>\n",
       "      <td>212</td>\n",
       "      <td>I made this and followed the instructions as d...</td>\n",
       "      <td>15</td>\n",
       "      <td>7</td>\n",
       "      <td>1.0</td>\n",
       "      <td>0.0</td>\n",
       "      <td>0.0</td>\n",
       "      <td>...</td>\n",
       "      <td>0.0</td>\n",
       "      <td>0.0</td>\n",
       "      <td>0.0</td>\n",
       "      <td>0.0</td>\n",
       "      <td>0.0</td>\n",
       "      <td>1.0</td>\n",
       "      <td>0.0</td>\n",
       "      <td>0.0</td>\n",
       "      <td>0.0</td>\n",
       "      <td>0.0</td>\n",
       "    </tr>\n",
       "    <tr>\n",
       "      <th>4</th>\n",
       "      <td>27</td>\n",
       "      <td>1</td>\n",
       "      <td>1622718460</td>\n",
       "      <td>100</td>\n",
       "      <td>Very Good!  I used corn tortillas.  Used fresh...</td>\n",
       "      <td>11</td>\n",
       "      <td>1</td>\n",
       "      <td>0.0</td>\n",
       "      <td>0.0</td>\n",
       "      <td>0.0</td>\n",
       "      <td>...</td>\n",
       "      <td>0.0</td>\n",
       "      <td>0.0</td>\n",
       "      <td>0.0</td>\n",
       "      <td>0.0</td>\n",
       "      <td>0.0</td>\n",
       "      <td>0.0</td>\n",
       "      <td>1.0</td>\n",
       "      <td>0.0</td>\n",
       "      <td>0.0</td>\n",
       "      <td>0.0</td>\n",
       "    </tr>\n",
       "  </tbody>\n",
       "</table>\n",
       "<p>5 rows × 115 columns</p>\n",
       "</div>"
      ],
      "text/plain": [
       "    ID  UserReputation  CreationTimestamp  BestScore  \\\n",
       "0   86               1         1622718043        100   \n",
       "1  102               1         1622717685        100   \n",
       "2  156               1         1622718307        100   \n",
       "3   18               1         1622648872        212   \n",
       "4   27               1         1622718460        100   \n",
       "\n",
       "                                       Recipe_Review  HourOfDay  \\\n",
       "0  This was so good!!  The pumpkin was perfect as...         11   \n",
       "1  So good!   Could not stop eating them, so bad....         10   \n",
       "2           I use a small ladle to fill muffin cups.         11   \n",
       "3  I made this and followed the instructions as d...         15   \n",
       "4  Very Good!  I used corn tortillas.  Used fresh...         11   \n",
       "\n",
       "   TotalInteractions  ThumbsRatio  RecipeCode_386  RecipeCode_414  ...  \\\n",
       "0                  0          0.0             0.0             0.0  ...   \n",
       "1                  1          0.0             0.0             0.0  ...   \n",
       "2                  0          0.0             0.0             0.0  ...   \n",
       "3                  7          1.0             0.0             0.0  ...   \n",
       "4                  1          0.0             0.0             0.0  ...   \n",
       "\n",
       "   RecipeCode_100276  RecipeCode_141947  RecipeCode_191775  DayOfWeek_0  \\\n",
       "0                0.0                0.0                0.0          0.0   \n",
       "1                0.0                0.0                0.0          0.0   \n",
       "2                0.0                0.0                0.0          0.0   \n",
       "3                0.0                0.0                0.0          0.0   \n",
       "4                0.0                0.0                0.0          0.0   \n",
       "\n",
       "   DayOfWeek_1  DayOfWeek_2  DayOfWeek_3  DayOfWeek_4  DayOfWeek_5  \\\n",
       "0          0.0          0.0          1.0          0.0          0.0   \n",
       "1          0.0          0.0          1.0          0.0          0.0   \n",
       "2          0.0          0.0          1.0          0.0          0.0   \n",
       "3          0.0          1.0          0.0          0.0          0.0   \n",
       "4          0.0          0.0          1.0          0.0          0.0   \n",
       "\n",
       "   DayOfWeek_6  \n",
       "0          0.0  \n",
       "1          0.0  \n",
       "2          0.0  \n",
       "3          0.0  \n",
       "4          0.0  \n",
       "\n",
       "[5 rows x 115 columns]"
      ]
     },
     "execution_count": 34,
     "metadata": {},
     "output_type": "execute_result"
    }
   ],
   "source": [
    "test_df.head()"
   ]
  },
  {
   "cell_type": "markdown",
   "id": "32219244",
   "metadata": {
    "papermill": {
     "duration": 0.034689,
     "end_time": "2024-03-13T13:51:23.395587",
     "exception": false,
     "start_time": "2024-03-13T13:51:23.360898",
     "status": "completed"
    },
    "tags": []
   },
   "source": [
    "### Handling the Numerical Features"
   ]
  },
  {
   "cell_type": "markdown",
   "id": "95e21422",
   "metadata": {
    "papermill": {
     "duration": 0.034689,
     "end_time": "2024-03-13T13:51:23.465126",
     "exception": false,
     "start_time": "2024-03-13T13:51:23.430437",
     "status": "completed"
    },
    "tags": []
   },
   "source": [
    "**Standardizing the numerical features using StandardScaler.**"
   ]
  },
  {
   "cell_type": "code",
   "execution_count": 35,
   "id": "ae7fa26d",
   "metadata": {
    "execution": {
     "iopub.execute_input": "2024-03-13T13:51:23.538716Z",
     "iopub.status.busy": "2024-03-13T13:51:23.537838Z",
     "iopub.status.idle": "2024-03-13T13:51:23.545379Z",
     "shell.execute_reply": "2024-03-13T13:51:23.544348Z"
    },
    "papermill": {
     "duration": 0.048194,
     "end_time": "2024-03-13T13:51:23.548231",
     "exception": false,
     "start_time": "2024-03-13T13:51:23.500037",
     "status": "completed"
    },
    "tags": []
   },
   "outputs": [
    {
     "name": "stdout",
     "output_type": "stream",
     "text": [
      "Number of unique entries for UserReputation: 20\n",
      "Number of unique entries for TotalInteractions: 81\n",
      "Number of unique entries for BestScore: 525\n",
      "Number of unique entries for ThumbsRatio: 250\n",
      "Number of unique entries for HourOfDay: 24\n"
     ]
    }
   ],
   "source": [
    "for feature in numerical_features:\n",
    "    unique_classes_count = train_df[feature].nunique()\n",
    "    print(f\"Number of unique entries for {feature}: {unique_classes_count}\")"
   ]
  },
  {
   "cell_type": "code",
   "execution_count": 36,
   "id": "570564a5",
   "metadata": {
    "execution": {
     "iopub.execute_input": "2024-03-13T13:51:23.621698Z",
     "iopub.status.busy": "2024-03-13T13:51:23.621290Z",
     "iopub.status.idle": "2024-03-13T13:51:23.638149Z",
     "shell.execute_reply": "2024-03-13T13:51:23.636718Z"
    },
    "papermill": {
     "duration": 0.056529,
     "end_time": "2024-03-13T13:51:23.640928",
     "exception": false,
     "start_time": "2024-03-13T13:51:23.584399",
     "status": "completed"
    },
    "tags": []
   },
   "outputs": [],
   "source": [
    "# Preprocessing: Scale new numerical features\n",
    "from sklearn.preprocessing import StandardScaler\n",
    "scaler = StandardScaler()\n",
    "train_df[numerical_features] = scaler.fit_transform(train_df[numerical_features])\n",
    "test_df[numerical_features] = scaler.transform(test_df[numerical_features])"
   ]
  },
  {
   "cell_type": "markdown",
   "id": "2aede7cd",
   "metadata": {
    "papermill": {
     "duration": 0.035249,
     "end_time": "2024-03-13T13:51:23.711517",
     "exception": false,
     "start_time": "2024-03-13T13:51:23.676268",
     "status": "completed"
    },
    "tags": []
   },
   "source": [
    "### Handling the Text Feature"
   ]
  },
  {
   "cell_type": "markdown",
   "id": "be51b0f3",
   "metadata": {
    "papermill": {
     "duration": 0.035145,
     "end_time": "2024-03-13T13:51:23.782579",
     "exception": false,
     "start_time": "2024-03-13T13:51:23.747434",
     "status": "completed"
    },
    "tags": []
   },
   "source": [
    "Preprocessing text data in 'Recipe_Review' column by replacing non-alphanumeric characters with spaces, converting to lowercase, and handling missing values for both training and test datasets."
   ]
  },
  {
   "cell_type": "code",
   "execution_count": 37,
   "id": "4890e275",
   "metadata": {
    "execution": {
     "iopub.execute_input": "2024-03-13T13:51:23.857331Z",
     "iopub.status.busy": "2024-03-13T13:51:23.856248Z",
     "iopub.status.idle": "2024-03-13T13:51:24.136152Z",
     "shell.execute_reply": "2024-03-13T13:51:24.134805Z"
    },
    "papermill": {
     "duration": 0.321332,
     "end_time": "2024-03-13T13:51:24.139764",
     "exception": false,
     "start_time": "2024-03-13T13:51:23.818432",
     "status": "completed"
    },
    "tags": []
   },
   "outputs": [],
   "source": [
    "import re\n",
    "train_df['Recipe_Review'] = train_df['Recipe_Review'].fillna('')\n",
    "train_df['Recipe_Review'] = train_df['Recipe_Review'].apply(lambda x: re.sub(r'[^\\w\\s\\d]', '', str(x).lower()))\n",
    "test_df['Recipe_Review'] = test_df['Recipe_Review'].fillna('')\n",
    "test_df['Recipe_Review'] = test_df['Recipe_Review'].apply(lambda x: re.sub(r'[^\\w\\s\\d]', '', str(x).lower()))"
   ]
  },
  {
   "cell_type": "code",
   "execution_count": 38,
   "id": "0acd3059",
   "metadata": {
    "execution": {
     "iopub.execute_input": "2024-03-13T13:51:24.222431Z",
     "iopub.status.busy": "2024-03-13T13:51:24.221979Z",
     "iopub.status.idle": "2024-03-13T13:51:26.237178Z",
     "shell.execute_reply": "2024-03-13T13:51:26.235956Z"
    },
    "papermill": {
     "duration": 2.056917,
     "end_time": "2024-03-13T13:51:26.240623",
     "exception": false,
     "start_time": "2024-03-13T13:51:24.183706",
     "status": "completed"
    },
    "tags": []
   },
   "outputs": [],
   "source": [
    "from sklearn.feature_extraction.text import TfidfVectorizer\n",
    "text_data = train_df['Recipe_Review']\n",
    "vectorizer = TfidfVectorizer(max_features=1000)\n",
    "text_matrix = vectorizer.fit_transform(text_data)\n",
    "\n",
    "text_df = pd.DataFrame(text_matrix.toarray(), columns=vectorizer.get_feature_names_out())\n",
    "# Replace the 'Recipe_Review' column with the new DataFrame\n",
    "train_df = pd.concat([train_df.drop('Recipe_Review', axis=1), text_df], axis=1)\n",
    "\n",
    "text_data_test = test_df['Recipe_Review']\n",
    "text_matrix_test = vectorizer.transform(text_data_test)\n",
    "text_df_test = pd.DataFrame(text_matrix_test.toarray(), columns=vectorizer.get_feature_names_out())\n",
    "test_df = pd.concat([test_df.drop('Recipe_Review', axis=1), text_df_test], axis=1)"
   ]
  },
  {
   "cell_type": "markdown",
   "id": "77c56635",
   "metadata": {
    "papermill": {
     "duration": 0.039595,
     "end_time": "2024-03-13T13:51:26.317667",
     "exception": false,
     "start_time": "2024-03-13T13:51:26.278072",
     "status": "completed"
    },
    "tags": []
   },
   "source": [
    "**Identifying the outliers**"
   ]
  },
  {
   "cell_type": "code",
   "execution_count": 39,
   "id": "1b99799c",
   "metadata": {
    "execution": {
     "iopub.execute_input": "2024-03-13T13:51:26.395607Z",
     "iopub.status.busy": "2024-03-13T13:51:26.394715Z",
     "iopub.status.idle": "2024-03-13T13:51:26.546503Z",
     "shell.execute_reply": "2024-03-13T13:51:26.544809Z"
    },
    "papermill": {
     "duration": 0.19175,
     "end_time": "2024-03-13T13:51:26.549118",
     "exception": false,
     "start_time": "2024-03-13T13:51:26.357368",
     "status": "completed"
    },
    "tags": []
   },
   "outputs": [
    {
     "name": "stdout",
     "output_type": "stream",
     "text": [
      "Number of outliers removed: 3265\n"
     ]
    }
   ],
   "source": [
    "Q1 = train_df['Rating'].quantile(0.25)\n",
    "Q3 = train_df['Rating'].quantile(0.75)\n",
    "IQR = Q3 - Q1\n",
    "\n",
    "lower_bound = Q1 - 1.5 * IQR\n",
    "upper_bound = Q3 + 1.5 * IQR\n",
    "\n",
    "# Identifying and removing outliers\n",
    "outliers_index = (train_df['Rating'] < lower_bound) | (train_df['Rating'] > upper_bound)\n",
    "cleaned_data = train_df[~outliers_index]\n",
    "\n",
    "# the number of removed outliers\n",
    "num_outliers_removed = sum(outliers_index)\n",
    "print(f'Number of outliers removed: {num_outliers_removed}')"
   ]
  },
  {
   "cell_type": "code",
   "execution_count": 40,
   "id": "d83fda31",
   "metadata": {
    "execution": {
     "iopub.execute_input": "2024-03-13T13:51:26.622917Z",
     "iopub.status.busy": "2024-03-13T13:51:26.622455Z",
     "iopub.status.idle": "2024-03-13T13:51:27.075987Z",
     "shell.execute_reply": "2024-03-13T13:51:27.074692Z"
    },
    "papermill": {
     "duration": 0.493871,
     "end_time": "2024-03-13T13:51:27.078816",
     "exception": false,
     "start_time": "2024-03-13T13:51:26.584945",
     "status": "completed"
    },
    "tags": []
   },
   "outputs": [
    {
     "data": {
      "image/png": "[encoded data removed]",
      "text/plain": [
       "<Figure size 1500x500 with 2 Axes>"
      ]
     },
     "metadata": {},
     "output_type": "display_data"
    }
   ],
   "source": [
    "import seaborn as sns\n",
    "import matplotlib.pyplot as plt\n",
    "\n",
    "# Boxplot before outlier removal\n",
    "plt.figure(figsize=(15, 5))\n",
    "plt.subplot(1, 2, 1)\n",
    "sns.boxplot(x=train_df['Rating'])\n",
    "plt.title('Boxplot of Rating (Before Outlier Removal)')\n",
    "\n",
    "# Boxplot after outlier removal\n",
    "plt.subplot(1, 2, 2)\n",
    "sns.boxplot(x=cleaned_data['Rating'])\n",
    "plt.title('Boxplot of Rating (After Outlier Removal)')\n",
    "\n",
    "plt.tight_layout()\n",
    "plt.show()\n"
   ]
  },
  {
   "cell_type": "markdown",
   "id": "81777d16",
   "metadata": {
    "papermill": {
     "duration": 0.037211,
     "end_time": "2024-03-13T13:51:27.151900",
     "exception": false,
     "start_time": "2024-03-13T13:51:27.114689",
     "status": "completed"
    },
    "tags": []
   },
   "source": [
    "solver needs samples of at least 2 classes in the data, but the data contains only one class: 5. It is personally believed that accurately identifying low ratings is crucial, as this area warrants focused attention. So the entire train_data is used instead of removing those outliers"
   ]
  },
  {
   "cell_type": "code",
   "execution_count": 41,
   "id": "5fd69ddf",
   "metadata": {
    "execution": {
     "iopub.execute_input": "2024-03-13T13:51:27.225833Z",
     "iopub.status.busy": "2024-03-13T13:51:27.225348Z",
     "iopub.status.idle": "2024-03-13T13:51:27.262503Z",
     "shell.execute_reply": "2024-03-13T13:51:27.261031Z"
    },
    "papermill": {
     "duration": 0.077449,
     "end_time": "2024-03-13T13:51:27.265292",
     "exception": false,
     "start_time": "2024-03-13T13:51:27.187843",
     "status": "completed"
    },
    "tags": []
   },
   "outputs": [
    {
     "data": {
      "text/html": [
       "<div>\n",
       "<style scoped>\n",
       "    .dataframe tbody tr th:only-of-type {\n",
       "        vertical-align: middle;\n",
       "    }\n",
       "\n",
       "    .dataframe tbody tr th {\n",
       "        vertical-align: top;\n",
       "    }\n",
       "\n",
       "    .dataframe thead th {\n",
       "        text-align: right;\n",
       "    }\n",
       "</style>\n",
       "<table border=\"1\" class=\"dataframe\">\n",
       "  <thead>\n",
       "    <tr style=\"text-align: right;\">\n",
       "      <th></th>\n",
       "      <th>ID</th>\n",
       "      <th>UserReputation</th>\n",
       "      <th>CreationTimestamp</th>\n",
       "      <th>BestScore</th>\n",
       "      <th>HourOfDay</th>\n",
       "      <th>TotalInteractions</th>\n",
       "      <th>ThumbsRatio</th>\n",
       "      <th>RecipeCode_386</th>\n",
       "      <th>RecipeCode_414</th>\n",
       "      <th>RecipeCode_957</th>\n",
       "      <th>...</th>\n",
       "      <th>yes</th>\n",
       "      <th>yesterday</th>\n",
       "      <th>yet</th>\n",
       "      <th>yogurt</th>\n",
       "      <th>you</th>\n",
       "      <th>you39re</th>\n",
       "      <th>your</th>\n",
       "      <th>yum</th>\n",
       "      <th>yummy</th>\n",
       "      <th>zucchini</th>\n",
       "    </tr>\n",
       "  </thead>\n",
       "  <tbody>\n",
       "    <tr>\n",
       "      <th>0</th>\n",
       "      <td>86</td>\n",
       "      <td>-0.115041</td>\n",
       "      <td>1622718043</td>\n",
       "      <td>-0.376842</td>\n",
       "      <td>0.176516</td>\n",
       "      <td>-0.264443</td>\n",
       "      <td>-0.30327</td>\n",
       "      <td>0.0</td>\n",
       "      <td>0.0</td>\n",
       "      <td>0.0</td>\n",
       "      <td>...</td>\n",
       "      <td>0.0</td>\n",
       "      <td>0.0</td>\n",
       "      <td>0.000000</td>\n",
       "      <td>0.0</td>\n",
       "      <td>0.000000</td>\n",
       "      <td>0.0</td>\n",
       "      <td>0.0</td>\n",
       "      <td>0.0</td>\n",
       "      <td>0.0</td>\n",
       "      <td>0.0</td>\n",
       "    </tr>\n",
       "    <tr>\n",
       "      <th>1</th>\n",
       "      <td>102</td>\n",
       "      <td>-0.115041</td>\n",
       "      <td>1622717685</td>\n",
       "      <td>-0.376842</td>\n",
       "      <td>-0.306714</td>\n",
       "      <td>-0.104803</td>\n",
       "      <td>-0.30327</td>\n",
       "      <td>0.0</td>\n",
       "      <td>0.0</td>\n",
       "      <td>0.0</td>\n",
       "      <td>...</td>\n",
       "      <td>0.0</td>\n",
       "      <td>0.0</td>\n",
       "      <td>0.000000</td>\n",
       "      <td>0.0</td>\n",
       "      <td>0.123365</td>\n",
       "      <td>0.0</td>\n",
       "      <td>0.0</td>\n",
       "      <td>0.0</td>\n",
       "      <td>0.0</td>\n",
       "      <td>0.0</td>\n",
       "    </tr>\n",
       "    <tr>\n",
       "      <th>2</th>\n",
       "      <td>156</td>\n",
       "      <td>-0.115041</td>\n",
       "      <td>1622718307</td>\n",
       "      <td>-0.376842</td>\n",
       "      <td>0.176516</td>\n",
       "      <td>-0.264443</td>\n",
       "      <td>-0.30327</td>\n",
       "      <td>0.0</td>\n",
       "      <td>0.0</td>\n",
       "      <td>0.0</td>\n",
       "      <td>...</td>\n",
       "      <td>0.0</td>\n",
       "      <td>0.0</td>\n",
       "      <td>0.000000</td>\n",
       "      <td>0.0</td>\n",
       "      <td>0.000000</td>\n",
       "      <td>0.0</td>\n",
       "      <td>0.0</td>\n",
       "      <td>0.0</td>\n",
       "      <td>0.0</td>\n",
       "      <td>0.0</td>\n",
       "    </tr>\n",
       "    <tr>\n",
       "      <th>3</th>\n",
       "      <td>18</td>\n",
       "      <td>-0.115041</td>\n",
       "      <td>1622648872</td>\n",
       "      <td>0.417587</td>\n",
       "      <td>2.109435</td>\n",
       "      <td>0.853035</td>\n",
       "      <td>0.29117</td>\n",
       "      <td>0.0</td>\n",
       "      <td>0.0</td>\n",
       "      <td>0.0</td>\n",
       "      <td>...</td>\n",
       "      <td>0.0</td>\n",
       "      <td>0.0</td>\n",
       "      <td>0.000000</td>\n",
       "      <td>0.0</td>\n",
       "      <td>0.000000</td>\n",
       "      <td>0.0</td>\n",
       "      <td>0.0</td>\n",
       "      <td>0.0</td>\n",
       "      <td>0.0</td>\n",
       "      <td>0.0</td>\n",
       "    </tr>\n",
       "    <tr>\n",
       "      <th>4</th>\n",
       "      <td>27</td>\n",
       "      <td>-0.115041</td>\n",
       "      <td>1622718460</td>\n",
       "      <td>-0.376842</td>\n",
       "      <td>0.176516</td>\n",
       "      <td>-0.104803</td>\n",
       "      <td>-0.30327</td>\n",
       "      <td>0.0</td>\n",
       "      <td>0.0</td>\n",
       "      <td>0.0</td>\n",
       "      <td>...</td>\n",
       "      <td>0.0</td>\n",
       "      <td>0.0</td>\n",
       "      <td>0.172545</td>\n",
       "      <td>0.0</td>\n",
       "      <td>0.000000</td>\n",
       "      <td>0.0</td>\n",
       "      <td>0.0</td>\n",
       "      <td>0.0</td>\n",
       "      <td>0.0</td>\n",
       "      <td>0.0</td>\n",
       "    </tr>\n",
       "  </tbody>\n",
       "</table>\n",
       "<p>5 rows × 1114 columns</p>\n",
       "</div>"
      ],
      "text/plain": [
       "    ID  UserReputation  CreationTimestamp  BestScore  HourOfDay  \\\n",
       "0   86       -0.115041         1622718043  -0.376842   0.176516   \n",
       "1  102       -0.115041         1622717685  -0.376842  -0.306714   \n",
       "2  156       -0.115041         1622718307  -0.376842   0.176516   \n",
       "3   18       -0.115041         1622648872   0.417587   2.109435   \n",
       "4   27       -0.115041         1622718460  -0.376842   0.176516   \n",
       "\n",
       "   TotalInteractions  ThumbsRatio  RecipeCode_386  RecipeCode_414  \\\n",
       "0          -0.264443     -0.30327             0.0             0.0   \n",
       "1          -0.104803     -0.30327             0.0             0.0   \n",
       "2          -0.264443     -0.30327             0.0             0.0   \n",
       "3           0.853035      0.29117             0.0             0.0   \n",
       "4          -0.104803     -0.30327             0.0             0.0   \n",
       "\n",
       "   RecipeCode_957  ...  yes  yesterday       yet  yogurt       you  you39re  \\\n",
       "0             0.0  ...  0.0        0.0  0.000000     0.0  0.000000      0.0   \n",
       "1             0.0  ...  0.0        0.0  0.000000     0.0  0.123365      0.0   \n",
       "2             0.0  ...  0.0        0.0  0.000000     0.0  0.000000      0.0   \n",
       "3             0.0  ...  0.0        0.0  0.000000     0.0  0.000000      0.0   \n",
       "4             0.0  ...  0.0        0.0  0.172545     0.0  0.000000      0.0   \n",
       "\n",
       "   your  yum  yummy  zucchini  \n",
       "0   0.0  0.0    0.0       0.0  \n",
       "1   0.0  0.0    0.0       0.0  \n",
       "2   0.0  0.0    0.0       0.0  \n",
       "3   0.0  0.0    0.0       0.0  \n",
       "4   0.0  0.0    0.0       0.0  \n",
       "\n",
       "[5 rows x 1114 columns]"
      ]
     },
     "execution_count": 41,
     "metadata": {},
     "output_type": "execute_result"
    }
   ],
   "source": [
    "test_df.head()"
   ]
  },
  {
   "cell_type": "code",
   "execution_count": 42,
   "id": "ee22a849",
   "metadata": {
    "execution": {
     "iopub.execute_input": "2024-03-13T13:51:27.341424Z",
     "iopub.status.busy": "2024-03-13T13:51:27.340975Z",
     "iopub.status.idle": "2024-03-13T13:51:27.832817Z",
     "shell.execute_reply": "2024-03-13T13:51:27.831394Z"
    },
    "papermill": {
     "duration": 0.533767,
     "end_time": "2024-03-13T13:51:27.836033",
     "exception": false,
     "start_time": "2024-03-13T13:51:27.302266",
     "status": "completed"
    },
    "tags": []
   },
   "outputs": [],
   "source": [
    "from sklearn.model_selection import train_test_split\n",
    "\n",
    "X = train_df.drop('Rating', axis=1)\n",
    "y = train_df['Rating']\n",
    "\n",
    "X_train, X_val, y_train, y_val = train_test_split(X, y, test_size=0.2, random_state=42, stratify= y)"
   ]
  },
  {
   "cell_type": "markdown",
   "id": "9b3252bd",
   "metadata": {
    "papermill": {
     "duration": 0.036407,
     "end_time": "2024-03-13T13:51:27.908932",
     "exception": false,
     "start_time": "2024-03-13T13:51:27.872525",
     "status": "completed"
    },
    "tags": []
   },
   "source": [
    "# **Model Building**"
   ]
  },
  {
   "cell_type": "markdown",
   "id": "793b7e3d",
   "metadata": {
    "papermill": {
     "duration": 0.036065,
     "end_time": "2024-03-13T13:51:27.981800",
     "exception": false,
     "start_time": "2024-03-13T13:51:27.945735",
     "status": "completed"
    },
    "tags": []
   },
   "source": [
    "**Dummy Classifier**"
   ]
  },
  {
   "cell_type": "code",
   "execution_count": 43,
   "id": "5fa40fdb",
   "metadata": {
    "execution": {
     "iopub.execute_input": "2024-03-13T13:51:28.058951Z",
     "iopub.status.busy": "2024-03-13T13:51:28.058254Z",
     "iopub.status.idle": "2024-03-13T13:51:28.073661Z",
     "shell.execute_reply": "2024-03-13T13:51:28.072564Z"
    },
    "papermill": {
     "duration": 0.057748,
     "end_time": "2024-03-13T13:51:28.076258",
     "exception": false,
     "start_time": "2024-03-13T13:51:28.018510",
     "status": "completed"
    },
    "tags": []
   },
   "outputs": [
    {
     "name": "stdout",
     "output_type": "stream",
     "text": [
      "Accuracy Score for Dummy Classifier (stratified strategy): 0.5989736070381232\n"
     ]
    }
   ],
   "source": [
    "from sklearn.dummy import DummyClassifier\n",
    "from sklearn.metrics import accuracy_score\n",
    "\n",
    "# Dummy Classifier (stratified strategy)\n",
    "dummy_model = DummyClassifier(strategy=\"stratified\")\n",
    "dummy_model.fit(X_train, y_train)\n",
    "y_pred_dummy = dummy_model.predict(X_val)\n",
    "acc_dummy = accuracy_score(y_val, y_pred_dummy)\n",
    "\n",
    "print(\"Accuracy Score for Dummy Classifier (stratified strategy):\", acc_dummy)\n"
   ]
  },
  {
   "cell_type": "markdown",
   "id": "a94872a2",
   "metadata": {
    "papermill": {
     "duration": 0.035944,
     "end_time": "2024-03-13T13:51:28.148418",
     "exception": false,
     "start_time": "2024-03-13T13:51:28.112474",
     "status": "completed"
    },
    "tags": []
   },
   "source": [
    "The stratified strategy generates random predictions based on the distribution of the training data labels."
   ]
  },
  {
   "cell_type": "markdown",
   "id": "fcaefca7",
   "metadata": {
    "papermill": {
     "duration": 0.035977,
     "end_time": "2024-03-13T13:51:28.221172",
     "exception": false,
     "start_time": "2024-03-13T13:51:28.185195",
     "status": "completed"
    },
    "tags": []
   },
   "source": [
    "**Logistic Regression**"
   ]
  },
  {
   "cell_type": "code",
   "execution_count": 44,
   "id": "18614896",
   "metadata": {
    "execution": {
     "iopub.execute_input": "2024-03-13T13:51:28.297519Z",
     "iopub.status.busy": "2024-03-13T13:51:28.296574Z",
     "iopub.status.idle": "2024-03-13T13:51:30.465922Z",
     "shell.execute_reply": "2024-03-13T13:51:30.464226Z"
    },
    "papermill": {
     "duration": 2.213722,
     "end_time": "2024-03-13T13:51:30.471121",
     "exception": false,
     "start_time": "2024-03-13T13:51:28.257399",
     "status": "completed"
    },
    "tags": []
   },
   "outputs": [
    {
     "name": "stdout",
     "output_type": "stream",
     "text": [
      "accuracy Score: 0.7606304985337243\n"
     ]
    }
   ],
   "source": [
    "from sklearn.linear_model import LogisticRegression\n",
    "from sklearn.metrics import accuracy_score\n",
    "# Logistic Regression\n",
    "logreg_model = LogisticRegression()\n",
    "logreg_model.fit(X_train, y_train)\n",
    "from sklearn.metrics import accuracy_score\n",
    "y_pred_log = logreg_model.predict(X_val)\n",
    "acc_log =  accuracy_score(y_val, y_pred_log)\n",
    "print(\"accuracy Score:\", acc_log)"
   ]
  },
  {
   "cell_type": "markdown",
   "id": "b7ceb11b",
   "metadata": {
    "papermill": {
     "duration": 0.048429,
     "end_time": "2024-03-13T13:51:30.599863",
     "exception": false,
     "start_time": "2024-03-13T13:51:30.551434",
     "status": "completed"
    },
    "tags": []
   },
   "source": [
    "**K-Nearest Neighbors (KNN) classifier** using Grid Search Cross-Validation."
   ]
  },
  {
   "cell_type": "markdown",
   "id": "f55a613e",
   "metadata": {
    "papermill": {
     "duration": 0.037352,
     "end_time": "2024-03-13T13:51:30.674965",
     "exception": false,
     "start_time": "2024-03-13T13:51:30.637613",
     "status": "completed"
    },
    "tags": []
   },
   "source": [
    "**Decision Tree classifier (CART)**"
   ]
  },
  {
   "cell_type": "code",
   "execution_count": 45,
   "id": "65c4b5c4",
   "metadata": {
    "execution": {
     "iopub.execute_input": "2024-03-13T13:51:30.751430Z",
     "iopub.status.busy": "2024-03-13T13:51:30.750997Z",
     "iopub.status.idle": "2024-03-13T13:51:32.140912Z",
     "shell.execute_reply": "2024-03-13T13:51:32.139555Z"
    },
    "papermill": {
     "duration": 1.432376,
     "end_time": "2024-03-13T13:51:32.144968",
     "exception": false,
     "start_time": "2024-03-13T13:51:30.712592",
     "status": "completed"
    },
    "tags": []
   },
   "outputs": [
    {
     "name": "stdout",
     "output_type": "stream",
     "text": [
      "CART Accuracy: 0.7551319648093842\n"
     ]
    }
   ],
   "source": [
    "from sklearn.tree import DecisionTreeClassifier\n",
    "from sklearn.metrics import accuracy_score\n",
    "\n",
    "cart_model = DecisionTreeClassifier(max_depth=10, min_samples_split=10, min_samples_leaf=6)\n",
    "cart_model.fit(X_train, y_train)\n",
    "y_pred_cart = cart_model.predict(X_val)\n",
    "accuracy_cart = accuracy_score(y_val, y_pred_cart)\n",
    "print(\"CART Accuracy:\", accuracy_cart)\n"
   ]
  },
  {
   "cell_type": "markdown",
   "id": "ceb5063d",
   "metadata": {
    "papermill": {
     "duration": 0.039189,
     "end_time": "2024-03-13T13:51:32.221998",
     "exception": false,
     "start_time": "2024-03-13T13:51:32.182809",
     "status": "completed"
    },
    "tags": []
   },
   "source": [
    "Decision Tree classifier as the base estimator for the **Bagging model**."
   ]
  },
  {
   "cell_type": "code",
   "execution_count": 46,
   "id": "6b32001b",
   "metadata": {
    "execution": {
     "iopub.execute_input": "2024-03-13T13:51:32.299333Z",
     "iopub.status.busy": "2024-03-13T13:51:32.298407Z",
     "iopub.status.idle": "2024-03-13T13:57:15.182358Z",
     "shell.execute_reply": "2024-03-13T13:57:15.181104Z"
    },
    "papermill": {
     "duration": 342.963422,
     "end_time": "2024-03-13T13:57:15.223293",
     "exception": false,
     "start_time": "2024-03-13T13:51:32.259871",
     "status": "completed"
    },
    "tags": []
   },
   "outputs": [
    {
     "name": "stderr",
     "output_type": "stream",
     "text": [
      "/opt/conda/lib/python3.10/site-packages/sklearn/ensemble/_base.py:166: FutureWarning: `base_estimator` was renamed to `estimator` in version 1.2 and will be removed in 1.4.\n",
      "  warnings.warn(\n"
     ]
    },
    {
     "name": "stdout",
     "output_type": "stream",
     "text": [
      "Bagging Accuracy: 0.7771260997067448\n",
      "              precision    recall  f1-score   support\n",
      "\n",
      "           0       0.63      0.15      0.24       254\n",
      "           1       0.43      0.07      0.12        42\n",
      "           2       1.00      0.11      0.21        35\n",
      "           3       0.89      0.11      0.19        74\n",
      "           4       0.50      0.06      0.10       248\n",
      "           5       0.78      0.99      0.87      2075\n",
      "\n",
      "    accuracy                           0.78      2728\n",
      "   macro avg       0.70      0.25      0.29      2728\n",
      "weighted avg       0.74      0.78      0.71      2728\n",
      "\n"
     ]
    }
   ],
   "source": [
    "from sklearn.tree import DecisionTreeClassifier\n",
    "from sklearn.ensemble import BaggingClassifier\n",
    "from sklearn.metrics import accuracy_score, classification_report\n",
    "\n",
    "bagging_model = BaggingClassifier(base_estimator=DecisionTreeClassifier(), n_estimators=50, max_samples=0.8)\n",
    "bagging_model.fit(X_train, y_train)\n",
    "y_pred_bagging = bagging_model.predict(X_val)\n",
    "accuracy_bagging = accuracy_score(y_val, y_pred_bagging)\n",
    "print(\"Bagging Accuracy:\", accuracy_bagging)\n",
    "\n",
    "print(classification_report(y_val, y_pred_bagging))\n"
   ]
  },
  {
   "cell_type": "markdown",
   "id": "ea6d9637",
   "metadata": {
    "papermill": {
     "duration": 0.036845,
     "end_time": "2024-03-13T13:57:15.297805",
     "exception": false,
     "start_time": "2024-03-13T13:57:15.260960",
     "status": "completed"
    },
    "tags": []
   },
   "source": [
    "Decision Tree classifier as the base estimator for the **AdaBoost model.**"
   ]
  },
  {
   "cell_type": "code",
   "execution_count": 47,
   "id": "3bd70ed0",
   "metadata": {
    "execution": {
     "iopub.execute_input": "2024-03-13T13:57:15.375636Z",
     "iopub.status.busy": "2024-03-13T13:57:15.374749Z",
     "iopub.status.idle": "2024-03-13T13:57:28.636018Z",
     "shell.execute_reply": "2024-03-13T13:57:28.634762Z"
    },
    "papermill": {
     "duration": 13.303162,
     "end_time": "2024-03-13T13:57:28.638709",
     "exception": false,
     "start_time": "2024-03-13T13:57:15.335547",
     "status": "completed"
    },
    "tags": []
   },
   "outputs": [
    {
     "name": "stdout",
     "output_type": "stream",
     "text": [
      "AdaBoost Accuracy (Default Hyperparameters): 0.6781524926686217\n",
      "              precision    recall  f1-score   support\n",
      "\n",
      "           0       0.24      0.24      0.24       254\n",
      "           1       0.12      0.14      0.13        42\n",
      "           2       0.12      0.11      0.12        35\n",
      "           3       0.16      0.14      0.14        74\n",
      "           4       0.18      0.14      0.16       248\n",
      "           5       0.82      0.84      0.83      2075\n",
      "\n",
      "    accuracy                           0.68      2728\n",
      "   macro avg       0.27      0.27      0.27      2728\n",
      "weighted avg       0.67      0.68      0.67      2728\n",
      "\n"
     ]
    }
   ],
   "source": [
    "from sklearn.ensemble import AdaBoostClassifier\n",
    "from sklearn.tree import DecisionTreeClassifier\n",
    "\n",
    "adaboost_classifier = AdaBoostClassifier(estimator=DecisionTreeClassifier())\n",
    "adaboost_classifier.fit(X_train, y_train)\n",
    "y_pred_adaboost = adaboost_classifier.predict(X_val)\n",
    "accuracy_adaboost = accuracy_score(y_val, y_pred_adaboost)\n",
    "print(\"AdaBoost Accuracy (Default Hyperparameters):\", accuracy_adaboost)\n",
    "print(classification_report(y_val,y_pred_adaboost))"
   ]
  },
  {
   "cell_type": "markdown",
   "id": "18c9bddb",
   "metadata": {
    "papermill": {
     "duration": 0.035759,
     "end_time": "2024-03-13T13:57:28.711331",
     "exception": false,
     "start_time": "2024-03-13T13:57:28.675572",
     "status": "completed"
    },
    "tags": []
   },
   "source": [
    "AdaBoost adjusts the weights of misclassified examples in each iteration to focus more on those examples in subsequent iterations. In the presence of class imbalance, misclassifying a minority class example may not significantly affect the overall error rate, leading to insufficient adjustments to the model."
   ]
  },
  {
   "cell_type": "markdown",
   "id": "bd0bf715",
   "metadata": {
    "papermill": {
     "duration": 0.038068,
     "end_time": "2024-03-13T13:57:28.786324",
     "exception": false,
     "start_time": "2024-03-13T13:57:28.748256",
     "status": "completed"
    },
    "tags": []
   },
   "source": [
    "Reasoning:\n",
    "AdaBoost focuses on boosting the performance of weak learners.    \n",
    "Lower accuracy suggests potential sensitivity to noisy data or outliers."
   ]
  },
  {
   "cell_type": "markdown",
   "id": "158fcec7",
   "metadata": {
    "papermill": {
     "duration": 0.036692,
     "end_time": "2024-03-13T13:57:28.861628",
     "exception": false,
     "start_time": "2024-03-13T13:57:28.824936",
     "status": "completed"
    },
    "tags": []
   },
   "source": [
    "**XGBoost** classifier"
   ]
  },
  {
   "cell_type": "markdown",
   "id": "9df34fdb",
   "metadata": {
    "papermill": {
     "duration": 0.035548,
     "end_time": "2024-03-13T13:57:28.933232",
     "exception": false,
     "start_time": "2024-03-13T13:57:28.897684",
     "status": "completed"
    },
    "tags": []
   },
   "source": [
    "**XGBoost Classifier** using Random Search Cross-Validation"
   ]
  },
  {
   "cell_type": "markdown",
   "id": "79cb9241",
   "metadata": {
    "execution": {
     "iopub.execute_input": "2024-03-13T08:11:18.913998Z",
     "iopub.status.busy": "2024-03-13T08:11:18.913590Z",
     "iopub.status.idle": "2024-03-13T08:28:28.170961Z",
     "shell.execute_reply": "2024-03-13T08:28:28.168897Z",
     "shell.execute_reply.started": "2024-03-13T08:11:18.913967Z"
    },
    "papermill": {
     "duration": 0.037529,
     "end_time": "2024-03-13T13:57:29.007857",
     "exception": false,
     "start_time": "2024-03-13T13:57:28.970328",
     "status": "completed"
    },
    "tags": []
   },
   "source": [
    "from xgboost import XGBClassifier\n",
    "from sklearn.model_selection import RandomizedSearchCV\n",
    "\n",
    "xgb_param_grid = {\n",
    "    'n_estimators': [100, 200, 300],\n",
    "    'learning_rate': [0.01, 0.1, 0.3],\n",
    "    'max_depth': [3, 5, 7],\n",
    "}\n",
    "\n",
    "xgb_classifier = XGBClassifier(random_state=42)\n",
    "xgb_rand_search = RandomizedSearchCV(xgb_classifier, xgb_param_grid, scoring='accuracy', cv=5, n_iter=9)\n",
    "xgb_rand_search.fit(X, y)\n",
    "\n",
    "best_xgb_model = xgb_rand_search.best_estimator_\n",
    "y_pred_xgb = best_xgb_model.predict(X_val)\n",
    "accuracy_xgb = accuracy_score(y_val, y_pred_xgb)\n",
    "\n",
    "print(\"Best XGBoost Accuracy:\", accuracy_xgb)\n",
    "print(\"Best XGBoost Parameters:\", xgb_rand_search.best_params_)\n",
    "print(classification_report(y_val, y_pred_xgb))\n"
   ]
  },
  {
   "cell_type": "code",
   "execution_count": 48,
   "id": "4d81e8a7",
   "metadata": {
    "execution": {
     "iopub.execute_input": "2024-03-13T13:57:29.084959Z",
     "iopub.status.busy": "2024-03-13T13:57:29.084215Z",
     "iopub.status.idle": "2024-03-13T13:59:56.297219Z",
     "shell.execute_reply": "2024-03-13T13:59:56.296312Z"
    },
    "papermill": {
     "duration": 147.293989,
     "end_time": "2024-03-13T13:59:56.339107",
     "exception": false,
     "start_time": "2024-03-13T13:57:29.045118",
     "status": "completed"
    },
    "tags": []
   },
   "outputs": [
    {
     "name": "stdout",
     "output_type": "stream",
     "text": [
      "Accuracy: 0.8892961876832844\n"
     ]
    }
   ],
   "source": [
    "from xgboost import XGBClassifier\n",
    "\n",
    "xgb_classifier = XGBClassifier(learning_rate=0.1, max_depth=5, n_estimators=300)\n",
    "xgb_classifier.fit(X, y)\n",
    "y_pred = xgb_classifier.predict(X_val)\n",
    "\n",
    "accuracy = accuracy_score(y_val, y_pred)\n",
    "print(\"Accuracy:\", accuracy)"
   ]
  },
  {
   "cell_type": "code",
   "execution_count": 49,
   "id": "5a1c9d1e",
   "metadata": {
    "execution": {
     "iopub.execute_input": "2024-03-13T13:59:56.415662Z",
     "iopub.status.busy": "2024-03-13T13:59:56.415258Z",
     "iopub.status.idle": "2024-03-13T13:59:56.884114Z",
     "shell.execute_reply": "2024-03-13T13:59:56.882931Z"
    },
    "papermill": {
     "duration": 0.510142,
     "end_time": "2024-03-13T13:59:56.886705",
     "exception": false,
     "start_time": "2024-03-13T13:59:56.376563",
     "status": "completed"
    },
    "tags": []
   },
   "outputs": [
    {
     "data": {
      "image/png": "[encoded data removed]",
      "text/plain": [
       "<Figure size 800x600 with 2 Axes>"
      ]
     },
     "metadata": {},
     "output_type": "display_data"
    }
   ],
   "source": [
    "from sklearn.metrics import confusion_matrix, roc_curve, roc_auc_score\n",
    "import matplotlib.pyplot as plt\n",
    "\n",
    "# Confusion Matrix\n",
    "conf_matrix = confusion_matrix(y_val, y_pred)\n",
    "plt.figure(figsize=(8, 6))\n",
    "sns.heatmap(conf_matrix, annot=True, cmap='Blues', fmt='g')\n",
    "plt.title('Confusion Matrix')\n",
    "plt.xlabel('Predicted')\n",
    "plt.ylabel('Actual')\n",
    "plt.show()"
   ]
  },
  {
   "cell_type": "markdown",
   "id": "10ded1cd",
   "metadata": {
    "papermill": {
     "duration": 0.038104,
     "end_time": "2024-03-13T13:59:56.963132",
     "exception": false,
     "start_time": "2024-03-13T13:59:56.925028",
     "status": "completed"
    },
    "tags": []
   },
   "source": [
    "XGBoost is an ensemble method known for its efficiency and high predictive performance."
   ]
  },
  {
   "cell_type": "markdown",
   "id": "2012ccd8",
   "metadata": {
    "papermill": {
     "duration": 0.038887,
     "end_time": "2024-03-13T13:59:57.041321",
     "exception": false,
     "start_time": "2024-03-13T13:59:57.002434",
     "status": "completed"
    },
    "tags": []
   },
   "source": [
    "**Analysis:**\n",
    "\n",
    "The model shows high accuracy, primarily driven by excellent performance on Class 5.    \n",
    "Classes 0, 1, 2, 3, and 4 have lower precision, recall, and F1-scores, indicating challenges in correctly identifying instances of these classes.    \n",
    "The macro-average metrics highlight the class imbalance and the need for improvement in predicting minority classes.    \n",
    "Class 5 dominates the dataset, leading to a skewed overall accuracy. Care should be taken to ensure the model generalizes well across all classes.    "
   ]
  },
  {
   "cell_type": "code",
   "execution_count": 50,
   "id": "b109f5b8",
   "metadata": {
    "execution": {
     "iopub.execute_input": "2024-03-13T13:59:57.120561Z",
     "iopub.status.busy": "2024-03-13T13:59:57.120124Z",
     "iopub.status.idle": "2024-03-13T13:59:57.462032Z",
     "shell.execute_reply": "2024-03-13T13:59:57.460965Z"
    },
    "papermill": {
     "duration": 0.385586,
     "end_time": "2024-03-13T13:59:57.465202",
     "exception": false,
     "start_time": "2024-03-13T13:59:57.079616",
     "status": "completed"
    },
    "tags": []
   },
   "outputs": [],
   "source": [
    "y_pred = xgb_classifier.predict(test_df)"
   ]
  },
  {
   "cell_type": "code",
   "execution_count": 51,
   "id": "5b6154dc",
   "metadata": {
    "execution": {
     "iopub.execute_input": "2024-03-13T13:59:57.543784Z",
     "iopub.status.busy": "2024-03-13T13:59:57.543254Z",
     "iopub.status.idle": "2024-03-13T13:59:57.578462Z",
     "shell.execute_reply": "2024-03-13T13:59:57.577109Z"
    },
    "papermill": {
     "duration": 0.076773,
     "end_time": "2024-03-13T13:59:57.581385",
     "exception": false,
     "start_time": "2024-03-13T13:59:57.504612",
     "status": "completed"
    },
    "tags": []
   },
   "outputs": [
    {
     "data": {
      "text/plain": [
       "Rating\n",
       "5    4272\n",
       "0     107\n",
       "4      92\n",
       "3      37\n",
       "1      25\n",
       "2      13\n",
       "Name: count, dtype: int64"
      ]
     },
     "execution_count": 51,
     "metadata": {},
     "output_type": "execute_result"
    }
   ],
   "source": [
    "submission = pd.DataFrame(columns = [\"ID\",\"Rating\"])\n",
    "submission[\"ID\"] = [i for i in range(1,len(y_pred)+1)]\n",
    "submission[\"Rating\"] = y_pred\n",
    "submission.to_csv('submission.csv',index=False)\n",
    "submission['Rating'].value_counts()"
   ]
  },
  {
   "cell_type": "markdown",
   "id": "b3b9cadf",
   "metadata": {
    "papermill": {
     "duration": 0.037841,
     "end_time": "2024-03-13T13:59:57.656864",
     "exception": false,
     "start_time": "2024-03-13T13:59:57.619023",
     "status": "completed"
    },
    "tags": []
   },
   "source": [
    "The XGBoost model has an accuracy of nearly 0.89 for the validation set and has accuracy of 0.785 for the test data"
   ]
  },
  {
   "cell_type": "markdown",
   "id": "15218a00",
   "metadata": {
    "papermill": {
     "duration": 0.039181,
     "end_time": "2024-03-13T13:59:57.735100",
     "exception": false,
     "start_time": "2024-03-13T13:59:57.695919",
     "status": "completed"
    },
    "tags": []
   },
   "source": [
    "**Classification Report Insights:**    \n",
    "**Class Imbalance:** The classification report reveals imbalances in class distributions, particularly for lower-rated classes (0 to 4).    \n",
    "**Potential Challenges:** Models may struggle to accurately predict lower-rated recipes due to fewer instances in the dataset."
   ]
  },
  {
   "cell_type": "markdown",
   "id": "08a16abd",
   "metadata": {
    "papermill": {
     "duration": 0.039512,
     "end_time": "2024-03-13T13:59:57.812816",
     "exception": false,
     "start_time": "2024-03-13T13:59:57.773304",
     "status": "completed"
    },
    "tags": []
   },
   "source": []
  }
 ],
 "metadata": {
  "kaggle": {
   "accelerator": "none",
   "dataSources": [
    {
     "databundleVersionId": 7452256,
     "sourceId": 67079,
     "sourceType": "competition"
    }
   ],
   "dockerImageVersionId": 30626,
   "isGpuEnabled": false,
   "isInternetEnabled": true,
   "language": "python",
   "sourceType": "notebook"
  },
  "kernelspec": {
   "display_name": "Python 3",
   "language": "python",
   "name": "python3"
  },
  "language_info": {
   "codemirror_mode": {
    "name": "ipython",
    "version": 3
   },
   "file_extension": ".py",
   "mimetype": "text/x-python",
   "name": "python",
   "nbconvert_exporter": "python",
   "pygments_lexer": "ipython3",
   "version": "3.10.12"
  },
  "papermill": {
   "default_parameters": {},
   "duration": 530.714138,
   "end_time": "2024-03-13T13:59:58.877497",
   "environment_variables": {},
   "exception": null,
   "input_path": "__notebook__.ipynb",
   "output_path": "__notebook__.ipynb",
   "parameters": {},
   "start_time": "2024-03-13T13:51:08.163359",
   "version": "2.4.0"
  }
 },
 "nbformat": 4,
 "nbformat_minor": 5
}
